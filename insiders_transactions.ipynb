{
 "cells": [
  {
   "cell_type": "code",
   "execution_count": 406,
   "metadata": {},
   "outputs": [],
   "source": [
    "import pandas as pd\n",
    "import numpy as np\n",
    "import seaborn as sns\n",
    "from matplotlib import pyplot as plt\n",
    "from datetime import tzinfo, timedelta, datetime\n",
    "import yfinance as yf\n",
    "\n",
    "Set_start_date = '2024-06-01'\n"
   ]
  },
  {
   "cell_type": "code",
   "execution_count": 407,
   "metadata": {},
   "outputs": [
    {
     "name": "stderr",
     "output_type": "stream",
     "text": [
      "C:\\Users\\maria\\AppData\\Local\\Temp\\ipykernel_2648\\1469108220.py:3: DtypeWarning: Columns (23) have mixed types. Specify dtype option on import or set low_memory=False.\n",
      "  non_deriv_trans= pd.read_csv(\"/Users/maria/Documents/CodeOpDocs/Milestones/Indiv_Project/NONDERIV_TRANS.tsv\", delimiter='\\t')\n"
     ]
    }
   ],
   "source": [
    "#pull in data sources for trades and SP500 list\n",
    "submission= pd.read_csv(\"/Users/maria/Documents/CodeOpDocs/Milestones/Indiv_Project/SUBMISSION.tsv\", delimiter='\\t')\n",
    "non_deriv_trans= pd.read_csv(\"/Users/maria/Documents/CodeOpDocs/Milestones/Indiv_Project/NONDERIV_TRANS.tsv\", delimiter='\\t')\n",
    "reporting_owner= pd.read_csv(\"/Users/maria/Documents/CodeOpDocs/Milestones/Indiv_Project/REPORTINGOWNER.tsv\", delimiter='\\t')\n",
    "\n",
    "SNP= pd.read_csv(\"sp500_companies.csv\")\n"
   ]
  },
  {
   "cell_type": "markdown",
   "metadata": {},
   "source": [
    "### make is so ACCESSION NUMBER is not Duplicated in Owner\n"
   ]
  },
  {
   "cell_type": "code",
   "execution_count": 408,
   "metadata": {},
   "outputs": [],
   "source": [
    "#make it so there is only ONE joined owner per ACCESSION_number\n",
    "\n",
    "reporting_owner.groupby('ACCESSION_NUMBER').agg({'RPTOWNERNAME': ','.join})\n",
    "owner_agg=reporting_owner.groupby('ACCESSION_NUMBER').agg({'RPTOWNERNAME': ','.join})\n"
   ]
  },
  {
   "cell_type": "code",
   "execution_count": 409,
   "metadata": {},
   "outputs": [
    {
     "data": {
      "text/html": [
       "<div>\n",
       "<style scoped>\n",
       "    .dataframe tbody tr th:only-of-type {\n",
       "        vertical-align: middle;\n",
       "    }\n",
       "\n",
       "    .dataframe tbody tr th {\n",
       "        vertical-align: top;\n",
       "    }\n",
       "\n",
       "    .dataframe thead th {\n",
       "        text-align: right;\n",
       "    }\n",
       "</style>\n",
       "<table border=\"1\" class=\"dataframe\">\n",
       "  <thead>\n",
       "    <tr style=\"text-align: right;\">\n",
       "      <th></th>\n",
       "      <th>ACCESSION_NUMBER</th>\n",
       "      <th>RPTOWNERNAME</th>\n",
       "    </tr>\n",
       "  </thead>\n",
       "  <tbody>\n",
       "    <tr>\n",
       "      <th>23583</th>\n",
       "      <td>0001415889-24-024119</td>\n",
       "      <td>Avalon Ventures XI, L.P.,Lichter Jay,Avalon Bi...</td>\n",
       "    </tr>\n",
       "  </tbody>\n",
       "</table>\n",
       "</div>"
      ],
      "text/plain": [
       "           ACCESSION_NUMBER                                       RPTOWNERNAME\n",
       "23583  0001415889-24-024119  Avalon Ventures XI, L.P.,Lichter Jay,Avalon Bi..."
      ]
     },
     "execution_count": 409,
     "metadata": {},
     "output_type": "execute_result"
    }
   ],
   "source": [
    "\n",
    "owner_agg=owner_agg.reset_index()\n",
    "owner_agg[owner_agg['ACCESSION_NUMBER']=='0001415889-24-024119']"
   ]
  },
  {
   "cell_type": "markdown",
   "metadata": {},
   "source": [
    "\n",
    "insider trade filing from EDGAR on https://www.sec.gov/data-research/sec-markets-data/insider-transactions-data-sets\n",
    "SP500 stocks from Kaggle https://www.kaggle.com/datasets/andrewmvd/sp-500-stocks/data"
   ]
  },
  {
   "cell_type": "markdown",
   "metadata": {},
   "source": [
    "#Discovering data I need\n",
    "\n",
    "\n",
    "Reporting Period for American Listed Companies\n",
    "n the US, insiders must file an initial filing on Form 3 within 10 days of becoming an officer, director, or beneficial owner. Changes in insider stock ownership are reported on Form 4 and must be filed with the SEC within two business days. Insiders must file a Form 5 to report any transactions that should have been reported earlier on a Form 4 or were eligible for deferred reporting. If a Form 5 must be filed, it is due 45 days after the end of the company’s fiscal year. For a more detailed explanation of the different insider reporting forms (3, 4, and 5) from the SEC, click here. \n",
    "https://undervaluedequity.com/insider-trading-rules-when-do-insiders-need-to-report-their-change-in-stock-ownership/#:~:text=Insiders%20must%20file%20a%20Form%205%20to%20report,after%20the%20end%20of%20the%20company%E2%80%99s%20fiscal%20year.\n"
   ]
  },
  {
   "cell_type": "markdown",
   "metadata": {},
   "source": [
    "### Looking into the SP500 data to make sure enough large stocks are in my dataset"
   ]
  },
  {
   "cell_type": "code",
   "execution_count": 410,
   "metadata": {},
   "outputs": [],
   "source": [
    "#Exploring SP500 data\n",
    "SNP['Symbol']\n",
    "universe= submission['ISSUERTRADINGSYMBOL']"
   ]
  },
  {
   "cell_type": "code",
   "execution_count": 411,
   "metadata": {},
   "outputs": [
    {
     "name": "stdout",
     "output_type": "stream",
     "text": [
      "['VLTO', 'HIG', 'MDT', 'NOW', 'L', 'MKC', 'DRI', 'DRI', 'DRI', 'PCAR', 'NOW', 'HIG', 'L', 'HIG', 'HBAN', 'AZO', 'DRI', 'RTX', 'ODFL', 'VLTO', 'AMP', 'DRI', 'CNP', 'HIG', 'HCA', 'DRI', 'HCA', 'CNP', 'LW', 'BMY', 'AZO', 'NOW', 'LW', 'PNR', 'HIG', 'L', 'AVY', 'MDT', 'PAYC', 'MDT', 'CRM', 'PAYC', 'HBAN', 'BX', 'HIG', 'LW', 'MKC', 'TEL', 'BMY', 'LW', 'MDT', 'DRI', 'LW', 'HIG', 'MDT', 'LW', 'DRI', 'MDT', 'WTW', 'FFIV', 'DRI', 'FFIV', 'TMO', 'DRI', 'MDT', 'MDT', 'NEM', 'AMGN', 'LW', 'HIG', 'DRI', 'NSC', 'NSC', 'NSC', 'NSC', 'AOS', 'TYL', 'PAYC', 'VTR', 'NVDA', 'RTX', 'RTX', 'HIG', 'NSC', 'NSC', 'NSC', 'NSC', 'CINF', 'DHI', 'ISRG', 'AOS', 'CINF', 'HLT', 'PGR', 'VZ', 'AEP', 'HLT', 'HLT', 'VZ', 'WMT', 'SYY', 'TROW', 'EXPE', 'TROW', 'TGT', 'ON', 'TROW', 'TER', 'A', 'VZ', 'TROW', 'ABBV', 'HRL', 'HUM', 'K', 'PAYC', 'HLT', 'PNC', 'KVUE', 'PANW', 'TROW', 'TROW', 'VZ', 'HLT', 'HLT', 'HLT', 'EA', 'DIS', 'VRSN', 'TER', 'HLT', 'WMT', 'VZ', 'LULU', 'TROW', 'VZ', 'DELL', 'DRI', 'GOOGL', 'MU', 'VZ', 'ADSK', 'ICE', 'VZ', 'SYY', 'SYY', 'TER', 'STLD', 'APH', 'PSA', 'KO', 'KMB', 'APH', 'APH', 'CTLT', 'KMB', 'A', 'KMB', 'ISRG', 'NVR', 'CTAS', 'ALLE', 'KDP', 'DRI', 'DRI', 'CSGP', 'MOH', 'MCO', 'CTLT', 'CTAS', 'DRI', 'GOOGL', 'IQV', 'ALLE', 'RTX', 'CTLT', 'KMX', 'AJG', 'CTLT', 'MCO', 'T', 'FI', 'MOH', 'MTB', 'LLY', 'DRI', 'DRI', 'DRI', 'AON', 'DRI', 'UHS', 'VRSN', 'CSGP', 'CTLT', 'TEL', 'STZ', 'AJG', 'PAYC', 'T', 'AIG', 'DRI', 'RTX', 'CSGP', 'CTLT', 'CTLT', 'RTX', 'MCO', 'AIG', 'CHTR', 'CTAS', 'EFX', 'VRSN', 'IQV', 'WELL', 'CMG', 'MHK', 'MHK', 'DRI', 'PAYX', 'CTAS', 'RTX', 'MHK', 'CTLT', 'DRI', 'WELL', 'CTLT', 'CTLT', 'BSX', 'DRI', 'NDAQ', 'EFX', 'GRMN', 'ADI', 'V', 'PAYC', 'DOV', 'MNST', 'BAC', 'CTSH', 'CBRE', 'OKE', 'CTSH', 'BEN', 'SPG', 'SPG', 'SPG', 'BEN', 'VTRS', 'CTSH', 'AMP', 'BRO', 'TRV', 'GDDY', 'CPAY', 'MRNA', 'PAYX', 'AEE', 'MCHP', 'OKE', 'OKE', 'RCL', 'V', 'SPG', 'SPG', 'SPG', 'SPG', 'PFG', 'CTSH', 'CPAY', 'OKE', 'BLK', 'MRNA', 'MCHP', 'TRV', 'DG', 'SPG', 'SPG', 'PFG', 'CTSH', 'XEL', 'OKE', 'MA', 'BAC', 'ECL', 'VRSK', 'MRNA', 'CTSH', 'BLK', 'CTSH', 'SYK', 'MCHP', 'OKE', 'CTSH', 'KKR', 'CTSH', 'PPL', 'OKE', 'CTSH', 'OKE', 'ADM', 'TSCO', 'WDC', 'MCHP', 'OKE', 'ETN', 'CTSH', 'AMZN', 'CTSH', 'PANW', 'INTU', 'PM', 'GM', 'KMX', 'NOW', 'DHR', 'HCA', 'DHR', 'K', 'DHR', 'DHR', 'LW', 'ROP', 'RSG', 'EFX', 'TSLA', 'INTU', 'LW', 'INTU', 'INTU', 'DHR', 'NVDA', 'INTU', 'LW', 'LW', 'INTU', 'FITB', 'BAC', 'LW', 'CBRE', 'LW', 'DHR', 'LW', 'META', 'INTU', 'LW', 'PKG', 'PAYC', 'INTU', 'INTU', 'LW', 'TDY', 'EA', 'HCA', 'UHS', 'TMO', 'EIX', 'NOC', 'INTU', 'INTU', 'TRV', 'CBOE', 'INTU', 'INTU', 'INTU', 'LW', 'INTU', 'DHR', 'TMO', 'PKG', 'UHS', 'TMO', 'UHS', 'TMO', 'DHR', 'NVR', 'CAT', 'INCY', 'TFC', 'CAT', 'LKQ', 'LKQ', 'LKQ', 'PNC', 'NVR', 'NVR', 'LKQ', 'CAT', 'LW', 'EA', 'IP', 'TMO', 'MPWR', 'EFX', 'IQV', 'TMO', 'DGX', 'ANET', 'TMO', 'ICE', 'BAC', 'TMO', 'TMO', 'META', 'ACGL', 'IR', 'TRV', 'MRNA', 'REGN', 'ABNB', 'EQR', 'TMO', 'PODD', 'ORLY', 'TMO', 'EL', 'PODD', 'LVS', 'CTAS', 'ISRG', 'XYL', 'ICE', 'COST', 'BSX', 'EA', 'ADM', 'MCD', 'ETR', 'POOL', 'GLW', 'PAYC', 'WMT', 'BA', 'ROST', 'CDNS', 'AON', 'DVA', 'COST', 'TGT', 'MRNA', 'PWR', 'ORLY', 'EQT', 'NCLH', 'IT', 'PHM', 'PHM', 'EVRG', 'MSCI', 'EL', 'GILD', 'WEC', 'EL', 'ACGL', 'EL', 'TXN', 'TMO', 'DG', 'EL', 'EL', 'EL', 'EL', 'PG', 'EL', 'KO', 'EL', 'EL', 'EL', 'TMO', 'META', 'LYV', 'EXR', 'MPWR', 'CHRW', 'CTVA', 'ACGL', 'ACGL', 'NCLH', 'DVA', 'AEP', 'EOG', 'WAB', 'DHI', 'EL', 'DHI', 'DHI', 'DHI', 'DHI', 'DHI', 'INTU', 'BKNG', 'INTU', 'AMCR', 'QRVO', 'AMCR', 'PH', 'NSC', 'F', 'VTR', 'PAYX', 'WY', 'META', 'ODFL', 'TGT', 'AMCR', 'LLY', 'MSI', 'ANET', 'FTNT', 'SMCI', 'PANW', 'ECL', 'PAYC', 'OMC', 'META', 'CBOE', 'AMCR', 'VTR', 'FCX', 'ANET', 'CRM', 'TXN', 'AMCR', 'META', 'NOW', 'EA', 'FI', 'AMCR', 'TXN', 'AMCR', 'DVA', 'IT', 'K', 'AMT', 'CSCO', 'MSI', 'AMCR', 'AMCR', 'CME', 'GOOGL', 'AZO', 'AMTM', 'GOOGL', 'TDG', 'AVGO', 'CPB', 'CPB', 'FDS', 'TDG', 'MCD', 'CAT', 'CPB', 'CPB', 'CRM', 'FDS', 'AMTM', 'AMTM', 'TDG', 'AMTM', 'AMTM', 'DD', 'AMTM', 'TDG', 'A', 'HPE', 'TDG', 'AMTM', 'AMTM', 'CPB', 'GOOGL', 'AMTM', 'AVGO', 'GOOGL', 'AMTM', 'DD', 'TDG', 'DHR', 'AMTM', 'AMTM', 'STX', 'WDC', 'AXON', 'CPB', 'FDS', 'CAT', 'AMTM', 'STX', 'AMTM', 'CTLT', 'CPB', 'CPB', 'AMTM', 'PAYC', 'AMTM', 'FDS', 'AMTM', 'CAT', 'PAYC', 'BAC', 'AMTM', 'CPB', 'CPB', 'TDG', 'CPB', 'OTIS', 'PSA', 'SYK', 'TMO', 'DLTR', 'ICE', 'CL', 'GOOGL', 'TMO', 'MHK', 'ADP', 'PEG', 'TRV', 'TXN', 'GM', 'BAC', 'DHI', 'AXON', 'FFIV', 'ETN', 'OTIS', 'TMO', 'NTRS', 'TMO', 'CMI', 'PAYC', 'TMUS', 'ADM', 'ETR', 'WDC', 'WY', 'DHI', 'NEE', 'SNA', 'TMO', 'FITB', 'SNA', 'ADP', 'TXN', 'TMO', 'HSY', 'WDC', 'HII', 'TMO', 'ICE', 'ORLY', 'TXN', 'TFX', 'ETR', 'GIS', 'ERIE', 'GIS', 'PNC', 'VST', 'INTU', 'DHR', 'GIS', 'GIS', 'MKC', 'EIX', 'CAT', 'MKC', 'CAT', 'TROW', 'CAT', 'SNPS', 'KO', 'PHM', 'WDC', 'BLDR', 'FIS', 'TMO', 'TRV', 'WDC', 'BR', 'AKAM', 'ETR', 'META', 'TMO', 'PG', 'MTD', 'PG', 'GIS', 'GIS', 'WMT', 'GIS', 'UNH', 'GIS', 'UNH', 'MAA', 'FOX', 'UNH', 'GIS', 'FOX', 'UNH', 'DRI', 'AME', 'GIS', 'MAA', 'DRI', 'NTAP', 'TRGP', 'GIS', 'COST', 'AVGO', 'DGX', 'FOX', 'MAA', 'GOOGL', 'UNH', 'GIS', 'UNH', 'UNH', 'ADI', 'DRI', 'GOOGL', 'UNH', 'FOX', 'RCL', 'TGT', 'UNH', 'GIS', 'FOX', 'MAA', 'AMZN', 'PAYC', 'UNH', 'MAA', 'FOX', 'FOX', 'NVDA', 'META', 'UNH', 'UNH', 'NFLX', 'BBY', 'MAA', 'FOX', 'NFLX', 'GIS', 'UNH', 'FOX', 'MTB', 'UNH', 'GOOGL', 'ABNB', 'UNH', 'MAA', 'PLTR', 'GIS', 'UNH', 'FOX', 'ADBE', 'AOS', 'DGX', 'CAG', 'RTX', 'KMB', 'CAG', 'CRM', 'DRI', 'PSA', 'CTAS', 'PSA', 'CFG', 'ADBE', 'ADBE', 'MS', 'GOOGL', 'CAG', 'DRI', 'WMT', 'DRI', 'CAG', 'HBAN', 'ORCL', 'DHR', 'DGX', 'BAC', 'DRI', 'DRI', 'KLAC', 'DGX', 'DRI', 'MRNA', 'DGX', 'BAC', 'PAYC', 'BAC', 'DRI', 'DHR', 'ADBE', 'DRI', 'WMT', 'DRI', 'DRI', 'DGX', 'NFLX', 'GILD', 'ADBE', 'ICE', 'HBAN', 'CAG', 'CAG', 'ADBE', 'ADBE', 'GOOGL', 'CAG', 'ORCL', 'ADBE', 'CAG', 'NEM', 'ADBE', 'EQT', 'MS', 'STX', 'GL', 'DRI', 'CMG', 'RSG', 'FTV', 'ETR', 'GEV', 'PLD', 'STT', 'WAB', 'FICO', 'CMG', 'PAYC', 'TJX', 'PH', 'AVY', 'KEYS', 'AON', 'MCHP', 'HWM', 'EXR', 'GEV', 'CMG', 'TXN', 'BWA', 'TPR', 'DUK', 'ADI', 'L', 'CMG', 'CBOE', 'TJX', 'ETR', 'WAB', 'META', 'TJX', 'TPR', 'DLR', 'CMG', 'CMS', 'ISRG', 'LLY', 'TJX', 'BSX', 'TPR', 'AFL', 'TPR', 'META', 'TPR', 'MSFT', 'TPR', 'DRI', 'AMCR', 'NSC', 'EIX', 'EL', 'ROL', 'DRI', 'BEN', 'CMG', 'PG', 'BXP', 'PG', 'CMG', 'MMC', 'GDDY', 'ISRG', 'CRWD', 'MKC', 'CRWD', 'DIS', 'HD', 'BR', 'PEG', 'HD', 'AMTM', 'MAA', 'AFL', 'DRI', 'BR', 'LDOS', 'OKE', 'OKE', 'OKE', 'OKE', 'HD', 'BR', 'BR', 'OKE', 'HD', 'PAYC', 'HD', 'OKE', 'MKC', 'OKE', 'HD', 'TSLA', 'DRI', 'BR', 'OKE', 'HD', 'CRM', 'HD', 'CRM', 'HD', 'DRI', 'DRI', 'ATO', 'MCD', 'META', 'CRWD', 'CRWD', 'DRI', 'DRI', 'CRWD', 'PLTR', 'OKE', 'ERIE', 'ERIE', 'ERIE', 'TFC', 'ERIE', 'ERIE', 'ERIE', 'ERIE', 'JKHY', 'ERIE', 'ERIE', 'JKHY', 'META', 'HBAN', 'HBAN', 'FITB', 'JBL', 'OTIS', 'BBY', 'EFX', 'ERIE', 'VRTX', 'UPS', 'FITB', 'HBAN', 'AZO', 'ADI', 'PAYX', 'HBAN', 'OTIS', 'JKHY', 'CRM', 'ETN', 'PAYC', 'HBAN', 'HBAN', 'JKHY', 'MTB', 'HBAN', 'HBAN', 'NVDA', 'HBAN', 'KMI', 'TECH', 'ERIE', 'LMT', 'FITB', 'MTB', 'FDX', 'PAYC', 'FDX', 'FFIV', 'FDX', 'BBY', 'EVRG', 'PGR', 'META', 'DELL', 'FDX', 'KR', 'GOOGL', 'PANW', 'FANG', 'HRL', 'BAC', 'FDX', 'FDX', 'MCD', 'TXN', 'MCD', 'TXN', 'ETR', 'FDX', 'FDX', 'PANW', 'DVA', 'FDX', 'PGR', 'ALL', 'HRL', 'INTU', 'FDX', 'EBAY', 'GIS', 'FDX', 'NVDA', 'CHD', 'FDX', 'FDX', 'MPWR', 'VRSN', 'IRM', 'JNPR', 'ABNB', 'PAYC', 'VRSN', 'AJG', 'EQT', 'VRSN', 'KMX', 'ACN', 'CRM', 'VRSN', 'EQT', 'LKQ', 'GLW', 'EQT', 'LKQ', 'EQT', 'EQT', 'TRGP', 'ERIE', 'PGR', 'ERIE', 'PGR', 'ISRG', 'PGR', 'ERIE', 'PGR', 'PGR', 'EQT', 'BAC', 'ERIE', 'ISRG', 'PGR', 'PGR', 'ERIE', 'CCI', 'PGR', 'ERIE', 'ERIE', 'VRSN', 'EQT', 'CLX', 'CLX', 'ABNB', 'AJG', 'VRSN', 'VRSN', 'VRTX', 'MPWR', 'MPWR', 'STX', 'CBOE', 'MPWR', 'HSY', 'MPWR', 'EQT', 'TRGP', 'DELL', 'CRM', 'PNC', 'PAYC', 'ORCL', 'ATO', 'ORCL', 'MA', 'FI', 'CSCO', 'CSCO', 'NVDA', 'ORCL', 'CRWD', 'CRM', 'CSCO', 'CRWD', 'CRWD', 'IVZ', 'CSCO', 'CRM', 'PGR', 'ORCL', 'AVGO', 'META', 'CRWD', 'CSCO', 'CRM', 'K', 'CRM', 'WDC', 'CRM', 'CRWD', 'CRWD', 'SCHW', 'OMC', 'WTW', 'MU', 'CAG', 'CAG', 'CRM', 'IRM', 'ACN', 'PANW', 'CRM', 'PANW', 'CRM', 'SLB', 'PGR', 'PGR', 'PGR', 'PGR', 'PGR', 'PGR', 'PGR', 'CAG', 'FFIV', 'KMI', 'WTW', 'CAG', 'CAG', 'NEE', 'WTW', 'CRM', 'WTW', 'KMI', 'CAG', 'CAG', 'NVDA', 'PGR', 'PGR', 'PGR', 'PGR', 'WTW', 'MCD', 'PAYC', 'KMI', 'CRM', 'ELV', 'KMI', 'CRM', 'PG', 'APA', 'APA', 'DD', 'PG', 'APA', 'PG', 'APA', 'APA', 'PG', 'APA', 'APA', 'APA', 'APA', 'APA', 'WMT', 'O', 'CRM', 'ORLY', 'ORLY', 'VLTO', 'LIN', 'ECL', 'NI', 'TPR', 'ADP', 'SYY', 'CRM', 'AMZN', 'CRM', 'CRM', 'MGM', 'MCD', 'FFIV', 'DOV', 'TPR', 'WMT', 'SMCI', 'CRM', 'CRM', 'PAYC', 'TPR', 'MA', 'AMZN', 'ALL', 'SYY', 'LLY', 'SYY', 'AMZN', 'SYY', 'VTRS', 'PAYX', 'CRM', 'EQR', 'LIN', 'PM', 'ANET', 'MTB', 'TPR', 'ANET', 'CRM', 'WFC', 'SYY', 'SYY', 'SYY', 'CRM', 'CRM', 'TPR', 'LIN', 'HWM', 'ORLY', 'PWR', 'SYY', 'SYY', 'TGT', 'PANW', 'EQR', 'SYY', 'BR', 'AMZN', 'TPR', 'SBAC', 'AMZN', 'CRM', 'PANW', 'CRM', 'AMZN', 'AXON', 'SYY', 'MGM', 'EQR', 'KO', 'CAT', 'KO', 'A', 'JBHT', 'LUV', 'PWR', 'PAYC', 'ELV', 'COST', 'COST', 'BLDR', 'SLB', 'SLB', 'NKE', 'K', 'IQV', 'PNC', 'PLTR', 'A', 'PNC', 'IQV', 'SLB', 'JBL', 'IQV', 'BLK', 'JBL', 'META', 'IQV', 'ALL', 'BBY', 'KR', 'FMC', 'WM', 'VZ', 'VZ', 'FMC', 'FMC', 'FMC', 'FMC', 'FMC', 'BBY', 'JNPR', 'JCI', 'HAL', 'VZ', 'VZ', 'FMC', 'VZ', 'FMC', 'FMC', 'VZ', 'VZ', 'VZ', 'FMC', 'IR', 'ANET', 'IR', 'PG', 'ANET', 'PG', 'FI', 'FTNT', 'PLTR', 'FTNT', 'LYV', 'AMD', 'HSY', 'SNA', 'FTNT', 'ANET', 'WELL', 'PG', 'ANET', 'PLTR', 'ANET', 'BEN', 'FTNT', 'LYB', 'ROK', 'CMI', 'PG', 'PG', 'PG', 'ANET', 'PLTR', 'CPAY', 'DVA', 'ANET', 'FTNT', 'PANW', 'AVY', 'CVX', 'MPWR', 'PG', 'PG', 'IR', 'AXON', 'ANET', 'BEN', 'WDC', 'PLTR', 'ANET', 'WELL', 'PAYC', 'MA', 'TMUS', 'FTNT', 'FTNT', 'PANW', 'META', 'TER', 'PANW', 'FAST', 'FTNT', 'META', 'WELL', 'NOW', 'WDC', 'PLTR', 'IR', 'WDC', 'PLTR', 'WDC', 'PG', 'CSCO', 'ANET', 'FTNT', 'CAH', 'WFC', 'DPZ', 'GRMN', 'AMCR', 'NSC', 'NSC', 'NSC', 'NSC', 'NSC', 'NSC', 'NSC', 'TYL', 'NSC', 'KO', 'NSC', 'PRU', 'NSC', 'NSC', 'OKE', 'KLAC', 'LH', 'ABNB', 'CDNS', 'MCHP', 'TMUS', 'AEE', 'CRM', 'NFLX', 'PHM', 'ORLY', 'IT', 'CBOE', 'META', 'PAYC', 'OKE', 'EBAY', 'OKE', 'OKE', 'EOG', 'BAC', 'ABNB', 'C', 'WST', 'CI', 'WST', 'IRM', 'NFLX', 'PANW', 'COR', 'IRM', 'MA', 'NTAP', 'MPWR', 'META', 'OKE', 'MSI', 'K', 'META', 'OKE', 'CBRE', 'AIZ', 'ALL', 'OKE', 'ABNB', 'FFIV', 'OKE', 'CE', 'QRVO', 'ORLY', 'LLY', 'NFLX', 'MCHP', 'GEN', 'EXPE', 'IRM', 'MCHP', 'EVRG', 'MCHP', 'MCHP', 'NI', 'MCHP', 'OKE', 'MDT', 'ABNB', 'ABNB', 'CBOE', 'GOOGL', 'GLW', 'QCOM', 'GPC', 'RMD', 'GPC', 'CINF', 'CINF', 'BR', 'CB', 'BDX', 'BDX', 'CINF', 'ICE', 'STLD', 'SW', 'SW', 'JCI', 'NVDA', 'DRI', 'SW', 'AJG', 'DELL', 'EG', 'DRI', 'NFLX', 'DRI', 'COO', 'SW', 'DRI', 'J', 'NVDA', 'ICE', 'L', 'SW', 'MRO', 'SW', 'HSY', 'SCHW', 'SW', 'SW', 'L', 'HPE', 'DRI', 'SW', 'NTAP', 'ROP', 'NVDA', 'DELL', 'DELL', 'SW', 'DELL', 'FRT', 'SW', 'DELL', 'PAYC', 'SW', 'EQR', 'L', 'DELL', 'DRI', 'SW', 'SW', 'HSY', 'DRI', 'NVDA', 'NVDA', 'J', 'SW', 'NVDA', 'RJF', 'AJG', 'DRI', 'TTWO', 'EW', 'PTC', 'OKE', 'EXPE', 'TPR', 'UBER', 'TPR', 'PG', 'IR', 'HSY', 'TPR', 'XEL', 'PG', 'NOW', 'OKE', 'LYV', 'MGM', 'CTSH', 'ALL', 'LLY', 'TTWO', 'TPR', 'CSCO', 'PH', 'LLY', 'LLY', 'BLK', 'CTSH', 'OKE', 'V', 'OKE', 'OKE', 'CTSH', 'PAYC', 'TPR', 'TTWO', 'PG', 'OKE', 'TTWO', 'MTB', 'CHRW', 'GE', 'CSCO', 'GEHC', 'GM', 'ECL', 'TTWO', 'OKE', 'PG', 'PG', 'PLTR', 'HD', 'PLD', 'TTWO', 'NOW', 'BRO', 'MGM', 'PG', 'CTSH', 'NOW', 'TRV', 'JCI', 'OKE', 'LLY', 'PG', 'NOW', 'PG', 'CSCO', 'TPR', 'J', 'PG', 'NOW', 'JCI', 'CTSH', 'TTWO', 'LLY', 'LYV', 'HSY', 'MGM', 'PG', 'OKE', 'UBER', 'MA', 'UBER', 'UBER', 'KEY', 'TTWO', 'NOW', 'MGM', 'UBER', 'PG', 'EA', 'TTWO', 'NOW', 'AVY', 'PG', 'CTSH', 'CMI', 'ERIE', 'YUM', 'LIN', 'GRMN', 'PGR', 'PGR', 'PNC', 'LIN', 'GD', 'CVS', 'SWK', 'HRL', 'GD', 'DG', 'INTU', 'EBAY', 'AON', 'SWK', 'GD', 'META', 'OKE', 'ABNB', 'GD', 'OKE', 'CLX', 'GD', 'NKE', 'C', 'ADBE', 'ADI', 'WMT', 'ABNB', 'ANET', 'BAC', 'ROP', 'CLX', 'PAYC', 'OKE', 'WMT', 'SWK', 'CLX', 'SWK', 'CLX', 'SWK', 'CLX', 'EBAY', 'NKE', 'AON', 'ESS', 'OKE', 'OKE', 'CLX', 'CLX', 'OKE', 'GD', 'AVGO', 'NKE', 'OKE', 'OKE', 'OKE', 'GD', 'ABNB', 'WMT', 'INTU', 'XYL', 'IRM', 'SWK', 'CDNS', 'NKE', 'CLX', 'SWK', 'CLX', 'NKE', 'KVUE', 'JBHT', 'DLTR', 'KO', 'PGR', 'JKHY', 'HOLX', 'HOLX', 'MS', 'BK', 'ORCL', 'WMT', 'ICE', 'UNH', 'UNH', 'PGR', 'LLY', 'VTR', 'VTR', 'MS', 'BAC', 'NVDA', 'MAS', 'VTR', 'VTR', 'VTR', 'PAYC', 'MDT', 'SCHW', 'UNH', 'VTR', 'ABBV', 'MS', 'UPS', 'MS', 'SCHW', 'COF', 'MS', 'VTR', 'DLTR', 'MRNA', 'MS', 'VTR', 'EL', 'CMI', 'VZ', 'GRMN', 'VZ', 'MTD', 'LH', 'VZ', 'CB', 'VZ', 'VZ', 'VZ', 'VZ', 'VZ', 'WRB', 'AIG', 'MA', 'AOS', 'DVA', 'DECK', 'CDNS', 'REGN', 'WRB', 'SBUX', 'META', 'META', 'OMC', 'BAC', 'TECH', 'TECH', 'ACGL', 'MSI', 'CTSH', 'ROK', 'AMD', 'STT', 'RL', 'SYF', 'IT', 'TRMB', 'CTSH', 'ORLY', 'STT', 'REGN', 'PSX', 'DVA', 'UBER', 'TRV', 'META', 'CAH', 'MMC', 'SYF', 'SYF', 'OMC', 'BBY', 'MMC', 'DECK', 'DVA', 'EW', 'MCHP', 'ROK', 'SYF', 'IT', 'STT', 'CAH', 'SYF', 'SYF', 'WRB', 'META', 'PH', 'CDNS', 'DVA', 'MA', 'RSG', 'AMD', 'SYF', 'AAPL', 'SYF', 'WRB', 'SYF', 'NTAP', 'GEHC', 'MCHP', 'MMC', 'RL', 'EBAY', 'VRSK', 'MCHP', 'DVA', 'SYF', 'CDNS', 'OMC', 'SYF', 'STT', 'META', 'WRB', 'SYF', 'CDNS', 'CTSH', 'SYF', 'BALL', 'GOOGL', 'CAH', 'MMC', 'MCHP', 'AIG', 'DVA', 'CAH', 'STT', 'GEHC', 'BAC', 'HAS', 'DPZ', 'NTAP', 'SYF', 'TECH', 'OMC', 'DVA', 'HUBB', 'RL', 'HD', 'BAC', 'WRB', 'STT', 'NTAP', 'BAC', 'SHW', 'RCL', 'DECK', 'AMD', 'STT', 'GEHC', 'HUBB', 'SCHW', 'AXON', 'TRGP', 'MMC', 'ADBE', 'DVA', 'EBAY', 'HAS', 'PAYX', 'CAH', 'RL', 'SYF', 'META', 'META', 'MDT', 'META', 'DECK', 'BAC', 'ALGN', 'BAC', 'MMC', 'MMC', 'PAYC', 'HUBB', 'META', 'IT', 'DECK', 'META', 'AMD', 'EBAY', 'CAH', 'RSG', 'MMC', 'AMZN', 'META', 'BAC', 'DAY', 'MA', 'META', 'RL', 'HD', 'CAH', 'TECH', 'SYF', 'BAC', 'DVA', 'NTAP', 'TECH', 'REG', 'VRSK', 'NTAP', 'BR', 'NTAP', 'DECK', 'DVA', 'CAH', 'DECK', 'SYF', 'PSA', 'DECK', 'SYF', 'APTV', 'SYF', 'ADP', 'NXPI', 'MA', 'UBER', 'GOOGL', 'MSFT', 'COST', 'KDP', 'GD', 'GOOGL', 'AMTM', 'UNH', 'JNPR', 'ED', 'CDNS', 'CTVA', 'AMTM', 'OKE', 'COST', 'ESS', 'KDP', 'UBER', 'CDW', 'KDP', 'CSCO', 'MSFT', 'GOOGL', 'OKE', 'GWW', 'MCD', 'DELL', 'OKE', 'CDNS', 'COST', 'COST', 'CRM', 'CDNS', 'OKE', 'CSCO', 'HSIC', 'GOOGL', 'MAR', 'COST', 'OKE', 'ESS', 'GDDY', 'PAYC', 'PLTR', 'MSFT', 'COST', 'LLY', 'COST', 'DAY', 'BX', 'GOOGL', 'AMTM', 'JKHY', 'CDNS', 'TDG', 'GOOGL', 'UBER', 'COST', 'ROST', 'GOOGL', 'MSFT', 'AMTM', 'MSFT', 'COR', 'PFG', 'TDG', 'KDP', 'MSFT', 'KR', 'ANET', 'WMT', 'TDG', 'HRL', 'CTVA', 'GOOGL', 'OKE', 'OKE', 'GOOGL', 'HSIC', 'ARE', 'ADP', 'CDNS', 'GOOGL', 'GOOGL', 'AMTM', 'FTNT', 'CMCSA', 'CDNS', 'NTAP', 'AMTM', 'CDW', 'OKE', 'ICE', 'UDR', 'IRM', 'GOOGL', 'UBER', 'MCD', 'KR', 'IRM', 'CME', 'OKE', 'PPG', 'FMC', 'KR', 'UBER', 'STZ', 'ADSK', 'GS', 'KMI', 'UBER', 'OKE', 'PPG', 'PAYX', 'OKE', 'KMI', 'STZ', 'KMI', 'OKE', 'STZ', 'STZ', 'FI', 'BLK', 'UBER', 'ADSK', 'USB', 'GS', 'UBER', 'ADSK', 'UBER', 'KMI', 'STZ', 'GS', 'OKE', 'STZ', 'STZ', 'GOOGL', 'KMI', 'DELL', 'OKE', 'USB', 'KMI', 'CSGP', 'KMI', 'ABNB', 'F', 'STZ', 'DIS', 'SWKS', 'OKE', 'GS', 'DGX', 'GS', 'GS', 'KMI', 'KMI', 'OKE', 'OKE', 'DIS', 'STZ', 'GS', 'UBER', 'STZ', 'MMC', 'STZ', 'OKE', 'STZ', 'FDX', 'FDX', 'CDW', 'PAYC', 'JBL', 'CME', 'RVTY', 'CSX', 'EBAY', 'ARE', 'CME', 'ARE', 'CLX', 'CME', 'EL', 'PLD', 'STX', 'ARE', 'CME', 'ARE', 'CLX', 'CHTR', 'T', 'EXPD', 'BALL', 'EBAY', 'SBAC', 'DVA', 'BALL', 'ORCL', 'ROST', 'ADBE', 'MHK', 'EL', 'T', 'LOW', 'ARE', 'VRSK', 'PLD', 'ARE', 'ROP', 'TFC', 'PLTR', 'PLD', 'NEE', 'CME', 'ADBE', 'ROST', 'CLX', 'AXON', 'YUM', 'CME', 'IP', 'GOOGL', 'SBUX', 'CLX', 'BALL', 'ORCL', 'CME', 'BEN', 'CME', 'EL', 'EL', 'EL', 'HLT', 'EL', 'LOW', 'WYNN', 'CLX', 'ATO', 'NEE', 'AMT', 'PAYC', 'ARE', 'CME', 'ARE', 'CME', 'PLD', 'ARE', 'SNPS', 'SBUX', 'NRG', 'HRL', 'EA', 'JCI', 'ARE', 'ATO', 'PLD', 'BALL', 'ON', 'MA', 'LLY', 'WY', 'NSC', 'EL', 'AON', 'EL', 'BX', 'EL', 'CLX', 'HPE', 'ORCL', 'ZBRA', 'SBUX', 'BALL', 'EBAY', 'LLY', 'CRWD', 'DXCM', 'CE', 'EBAY', 'T', 'BAC', 'ORCL', 'CME', 'AMD', 'CME', 'GOOGL', 'CLX', 'BALL', 'LLY', 'STX', 'LLY', 'ARE', 'CLX', 'LLY', 'SYK', 'DVA', 'ARE', 'BALL', 'EL', 'META', 'EBAY', 'NEE', 'KDP', 'PLD', 'APTV', 'GOOGL', 'EL', 'CME', 'NEE', 'PLD', 'BALL', 'ETR', 'ETR', 'ARE', 'STE', 'EBAY', 'T', 'BALL', 'CE', 'INCY', 'INCY', 'NEE', 'INCY', 'INCY', 'MKC', 'INCY', 'SNPS', 'WM', 'INCY', 'INCY', 'INCY', 'INCY', 'CAT', 'INCY', 'PAYX', 'PAYX', 'VLTO', 'VLTO', 'RSG', 'ARE', 'PAYX', 'PAYX', 'VLTO', 'ADSK', 'RSG', 'WTW', 'BAC', 'META', 'NVDA', 'RSG', 'ADSK', 'WTW', 'RSG', 'WTW', 'WTW', 'WTW', 'JNPR', 'VLTO', 'MU', 'MU', 'PAYX', 'RF', 'ADBE', 'ADBE', 'RSG', 'VLTO', 'RSG', 'PAYX', 'MU', 'WTW', 'META', 'ADSK', 'RSG', 'RSG', 'NOW', 'DPZ', 'VLTO', 'PAYX', 'LKQ', 'PAYX', 'NTAP', 'DPZ', 'WTW', 'PAYX', 'ORCL', 'MMC', 'ARE', 'CDNS', 'RSG', 'KMX', 'META', 'WTW', 'JBL', 'ADSK', 'VLTO', 'PAYX', 'LKQ', 'RSG', 'VLTO', 'MU', 'RSG', 'PAYX', 'ADBE', 'ABNB', 'ADSK', 'DPZ', 'EA', 'VLTO', 'MU', 'COST', 'PLTR', 'ADSK', 'RSG', 'FTNT', 'ADBE', 'DPZ', 'JNPR', 'LKQ', 'BALL', 'LKQ', 'PAYX', 'COR', 'RSG', 'ADSK', 'EBAY', 'CRM', 'RF', 'ADBE', 'RSG', 'PAYX', 'DPZ', 'ARE', 'WTW', 'RSG', 'RSG', 'WTW', 'RSG', 'ADBE', 'VLTO', 'RSG', 'PAYX', 'ROK', 'VRTX', 'VLTO', 'FITB', 'RF', 'EBAY', 'RSG', 'MU', 'ARE', 'CAT', 'PAYX', 'RSG', 'DPZ', 'AMD', 'PAYX', 'ADSK', 'PAYC', 'VLTO', 'RSG', 'MU', 'DPZ', 'ADBE', 'ARE', 'ADSK', 'IRM', 'VLTO', 'RF', 'RF', 'DPZ', 'CLX', 'FMC', 'WTW', 'ADSK', 'MU', 'WMT', 'LKQ', 'CHTR', 'RSG', 'PAYX', 'ADBE', 'PAYX', 'MMC', 'RSG', 'PRU', 'EXR', 'PRU', 'INCY', 'VZ', 'VZ', 'FDS', 'HII', 'EW', 'CHD', 'HII', 'VZ', 'PFE', 'HII', 'PPG', 'GOOGL', 'LOW', 'PRU', 'PG', 'PFE', 'HII', 'PRU', 'HSY', 'HSY', 'HII', 'HII', 'CL', 'TYL', 'HII', 'CL', 'PFE', 'VZ', 'FDS', 'PRU', 'PAYC', 'FDS', 'VZ', 'CL', 'TROW', 'EOG', 'HII', 'CHD', 'FDS', 'PFE', 'PFE', 'HII', 'HII', 'AFL', 'KDP', 'TJX', 'HII', 'HII', 'PRU', 'VZ', 'GRMN', 'PPG', 'PFE', 'NTRS', 'CHD', 'HII', 'FTV', 'WY', 'PFE', 'DELL', 'K', 'PRU', 'ISRG', 'INCY', 'VZ', 'CL', 'EW', 'FTV', 'PG', 'CHD', 'CL', 'HII', 'FDS', 'ADSK', 'HII', 'GLW', 'FDS', 'HII', 'IT', 'CHD', 'CL', 'KR', 'HII', 'PRU', 'ADP', 'HII', 'FDS', 'PNC', 'TECH', 'HII', 'PG', 'CHD', 'HII', 'HII', 'PRU', 'CHD', 'PFE', 'PG', 'FDS', 'KR', 'WMB', 'HII', 'HII', 'CL', 'PRU', 'HII', 'CL', 'PRU', 'VZ', 'CHD', 'PFE', 'PPG', 'PFE', 'KDP', 'IT', 'NVDA', 'HII', 'PFE', 'FAST', 'HII', 'NDAQ', 'HST', 'RL', 'CE', 'EXPE', 'DHR', 'HPQ', 'CBRE', 'LLY', 'JPM', 'KR', 'PAYC', 'BKNG', 'FIS', 'IT', 'OKE', 'DHR', 'TRGP', 'OKE', 'LLY', 'MSFT', 'HST', 'PFE', 'HST', 'PFE', 'GOOGL', 'MKC', 'PFE', 'RL', 'LLY', 'KR', 'CRWD', 'MRNA', 'TDG', 'VRSN', 'KMX', 'LLY', 'VRSN', 'OKE', 'OKE', 'TRGP', 'RL', 'DHR', 'CBRE', 'FTV', 'KR', 'TDG', 'RL', 'LLY', 'OKE', 'RL', 'OKE', 'PYPL', 'HST', 'HST', 'RL', 'DHR', 'BX', 'STZ', 'RL', 'AMD', 'KR', 'TDG', 'CHTR', 'RL', 'OKE', 'GLW', 'UBER', 'OKE', 'RL', 'RL', 'CRWD', 'RL', 'FI', 'OKE', 'MKC', 'VRSK', 'PPG', 'PGR', 'IP', 'PGR', 'PGR', 'PGR', 'KR', 'LNT', 'CHD', 'AEP', 'WM', 'WM', 'LNT', 'LNT', 'WM', 'APA', 'WM', 'WM', 'KR', 'FMC', 'JBHT', 'PGR', 'PGR', 'PPG', 'KR', 'CHD', 'CHD', 'CHD', 'LNT', 'LNT', 'KR', 'LNT', 'CHD', 'CHD', 'KR', 'WM', 'CHD', 'KR', 'WM', 'CHD', 'KR', 'YUM', 'PGR', 'PPG', 'PGR', 'PGR', 'PGR', 'PGR', 'PGR', 'PGR', 'PGR', 'PGR', 'PGR', 'PGR', 'PGR', 'PGR', 'WM', 'LNT', 'NOW', 'CHD', 'RMD', 'IP', 'PPG', 'CHD', 'PPG', 'KVUE', 'CHD', 'RMD', 'PGR', 'CHD', 'YUM', 'PH', 'ACN', 'OKE', 'PH', 'CRWD', 'FOX', 'ACN', 'MKTX', 'DGX', 'PH', 'TFX', 'STT', 'AVB', 'C', 'CPAY', 'RMD', 'FOX', 'PTC', 'FOX', 'LYB', 'KKR', 'APH', 'EXPE', 'ETR', 'EA', 'PH', 'PH', 'OKE', 'QRVO', 'AXON', 'APH', 'ACN', 'FOX', 'RVTY', 'EQR', 'TDG', 'MSI', 'EA', 'WMT', 'CZR', 'AVY', 'NWS', 'PH', 'V', 'PH', 'NOW', 'ACN', 'ACN', 'F', 'MOH', 'ACN', 'STT', 'ACN', 'PAYC', 'MMC', 'NWS', 'TRGP', 'VRSN', 'QRVO', 'ACN', 'FOX', 'PCG', 'FTV', 'TDG', 'ACN', 'WMT', 'NWS', 'NWS', 'ETN', 'PH', 'ORLY', 'ACN', 'PH', 'VRSN', 'NOW', 'PWR', 'PH', 'EA', 'ORLY', 'ACN', 'ACN', 'EXPE', 'PTC', 'RMD', 'CHD', 'CHD', 'CHD', 'BKNG', 'NWS', 'QRVO', 'ACN', 'VRSN', 'WMT', 'QRVO', 'VRSN', 'OKE', 'SYY', 'OKE', 'GS', 'EQIX', 'OKE', 'EXPE', 'ACN', 'NWS', 'GOOGL', 'VRSN', 'ACN', 'PH', 'OKE', 'EXPE', 'OKE', 'EQIX', 'SWKS', 'RMD', 'RMD', 'ACN', 'ACN', 'PH', 'EXPE', 'BR', 'OKE', 'F', 'IR', 'NWS', 'ACN', 'NEM', 'ACN', 'PPG', 'BEN', 'BEN', 'PH', 'OKE', 'QRVO', 'CNC', 'BLK', 'PH', 'BR', 'AKAM', 'DE', 'CHD', 'STLD', 'STLD', 'PFE', 'ZBRA', 'STLD', 'PFE', 'PFE', 'ZBRA', 'PEG', 'KR', 'KR', 'KR', 'CTAS', 'SW', 'SW', 'STLD', 'SW', 'META', 'COST', 'PNC', 'NVDA', 'ACN', 'LRCX', 'LHX', 'ACN', 'PTC', 'SW', 'CTSH', 'ZTS', 'ZTS', 'AMP', 'STLD', 'ZTS', 'DAL', 'K', 'ADSK', 'PAYC', 'SW', 'META', 'STLD', 'SW', 'ACN', 'SW', 'GM', 'CTSH', 'SW', 'KMX', 'STLD', 'COST', 'AMZN', 'AMP', 'ZTS', 'META', 'AVB', 'SW', 'SW', 'SW', 'SCHW', 'ACN', 'SW', 'STLD', 'STLD', 'NVDA', 'DOV', 'DAL', 'STLD', 'STLD', 'NVDA', 'ZTS', 'ZTS', 'AMP', 'AMP', 'SW', 'SW', 'AVGO', 'SW', 'SW', 'SW', 'SW', 'STLD', 'SW', 'ACN', 'ZTS', 'META', 'ZTS', 'CFG', 'FI', 'FICO', 'DG', 'WAT', 'ABNB', 'GLW', 'COST', 'CFG', 'CFG', 'GEHC', 'BR', 'CFG', 'WMT', 'ADSK', 'CFG', 'APH', 'DVA', 'REGN', 'UHS', 'MPWR', 'INTU', 'WAB', 'BR', 'MS', 'MKC', 'MTB', 'TRGP', 'NI', 'CINF', 'INTU', 'SBUX', 'FTNT', 'WMT', 'CFG', 'BDX', 'FI', 'HSIC', 'CFG', 'PAYC', 'GLW', 'INTU', 'REG', 'CFG', 'VST', 'IT', 'NTRS', 'MOS', 'GLW', 'ETN', 'WTW', 'CFG', 'WAT', 'ALLE', 'CHTR', 'GLW', 'REG', 'CFG', 'CFG', 'NKE', 'CFG', 'PH', 'CB', 'BWA', 'UHS', 'PANW', 'WTW', 'COST', 'TSCO', 'BWA', 'QRVO', 'NFLX', 'FOX', 'NOW', 'QRVO', 'NOW', 'CAH', 'FTV', 'AON', 'K', 'CTAS', 'TDG', 'AON', 'CTAS', 'QRVO', 'UHS', 'META', 'CRM', 'NFLX', 'CE', 'QRVO', 'REGN', 'CTAS', 'CRM', 'CAH', 'FOX', 'POOL', 'QRVO', 'QRVO', 'META', 'CE', 'CE', 'FOX', 'NFLX', 'QRVO', 'K', 'NOW', 'WTW', 'K', 'CE', 'CAH', 'NTAP', 'PAYC', 'QRVO', 'NOW', 'CE', 'CAH', 'SOLV', 'EVRG', 'FOX', 'CTAS', 'QRVO', 'QRVO', 'CAH', 'EW', 'NOW', 'CAH', 'CAH', 'META', 'CI', 'LDOS', 'BLK', 'QRVO', 'CAG', 'META', 'FSLR', 'PLTR', 'AVY', 'QRVO', 'PAYC', 'NOW', 'K', 'TXN', 'FICO', 'TMUS', 'KMI', 'ES', 'BR', 'FOX', 'PLTR', 'CI', 'QRVO', 'MKTX', 'CTAS', 'EVRG', 'GRMN', 'BR', 'TEL', 'PFE', 'COP', 'CME', 'BR', 'BR', 'XOM', 'BR', 'GILD', 'YUM', 'BR', 'YUM', 'INCY', 'BR', 'BR', 'GEN', 'EXR', 'IP', 'AMD', 'SYY', 'DELL', 'CHTR', 'UHS', 'GILD', 'PPG', 'PPG', 'WMT', 'ICE', 'MGM', 'MSFT', 'DG', 'GEN', 'MGM', 'PPG', 'GILD', 'BEN', 'AJG', 'WYNN', 'CMI', 'AKAM', 'PPG', 'NFLX', 'PPG', 'PPG', 'STX', 'SYY', 'SYY', 'STX', 'MSFT', 'CDNS', 'CMG', 'PPG', 'SYY', 'PAYC', 'VICI', 'WMT', 'STX', 'SBUX', 'PPG', 'GEN', 'MSFT', 'GEN', 'HPQ', 'PSA', 'MSFT', 'PPG', 'MSFT', 'DVN', 'PTC', 'FANG', 'STX', 'O', 'UHS', 'SYY', 'ECL', 'GEN', 'PPG', 'PPG', 'CMG', 'MSFT', 'WMT', 'PPG', 'VTRS', 'TER', 'SYY', 'STX', 'CHTR', 'BBY', 'GEN', 'SWKS', 'MNST', 'RMD', 'MSFT', 'MSFT', 'IT', 'ABT', 'PH', 'SYY', 'CBRE', 'SMCI', 'LW', 'SYY', 'INTU', 'CSCO', 'AIZ', 'SYY', 'AAPL', 'HSY', 'SMCI', 'VMC', 'AMD', 'SYY', 'SYY', 'SYY', 'RJF', 'TRGP', 'INTU', 'AMD', 'BKNG', 'HSIC', 'INTU', 'CBRE', 'PH', 'SMCI', 'CSCO', 'WYNN', 'AMD', 'PTC', 'LLY', 'MTB', 'MTB', 'FICO', 'AMGN', 'CSCO', 'AMD', 'GDDY', 'CSCO', 'MOS', 'PWR', 'ETN', 'SYY', 'AMD', 'MKC', 'CSCO', 'TRGP', 'PANW', 'AMD', 'TRGP', 'NDAQ', 'GLW', 'SWK', 'PH', 'PAYC', 'AIZ', 'SMCI', 'AMD', 'INTU', 'SMCI', 'MKC', 'PWR', 'SMCI', 'GRMN', 'SYY', 'SMCI', 'HUBB', 'SMCI', 'SMCI', 'AMD', 'AMD', 'MRNA', 'AMGN', 'CRL', 'AMGN', 'PLTR', 'RSG', 'SYY', 'FSLR', 'L', 'SMCI', 'NOW', 'PWR', 'SYY', 'INTU', 'SMCI', 'HSIC', 'ISRG', 'RMD', 'ERIE', 'PNC', 'ES', 'MPWR', 'MHK', 'EOG', 'EOG', 'CDW', 'JNJ', 'ADM', 'NTAP', 'FANG', 'MET', 'CDW', 'FANG', 'NTAP', 'CDW', 'CDW', 'AKAM', 'ADM', 'LYV', 'ESS', 'CSCO', 'GEN', 'AXON', 'CDW', 'ADP', 'WAB', 'NTAP', 'ADM', 'NTAP', 'ADM', 'ABNB', 'CDW', 'NTAP', 'CDW', 'WMT', 'MAS', 'LLY', 'ADM', 'DG', 'TDG', 'CSCO', 'NTAP', 'ADI', 'ADM', 'PAYC', 'CDW', 'CDW', 'FANG', 'ADM', 'CDW', 'AMT', 'CDW', 'MET', 'FANG', 'NTAP', 'CDW', 'ADM', 'MET', 'BR', 'NTAP', 'CRM', 'FANG', 'ADM', 'NTAP', 'CDW', 'PLTR', 'CDW', 'MET', 'GEN', 'APTV', 'IT', 'ITW', 'NTAP', 'ZTS', 'GEN', 'STE', 'MET', 'NTAP', 'ADI', 'GEN', 'CMI', 'CDW', 'TYL', 'NTAP', 'MET', 'CL', 'GEN', 'LYV', 'ADI', 'MET', 'HCA', 'NTAP', 'ADI', 'EMN', 'NVDA', 'PODD', 'GEN', 'ADI', 'META', 'CTSH', 'GEN', 'ALLE', 'CRM', 'MET', 'ADM', 'JNJ', 'LYV', 'MET', 'CDW', 'ADI', 'CSCO', 'GEN', 'DELL', 'HII', 'WTW', 'LYV', 'KMX', 'HII', 'UPS', 'WTW', 'PH', 'WTW', 'WBA', 'STZ', 'STZ', 'NTAP', 'WBA', 'STZ', 'HII', 'VRTX', 'NKE', 'HII', 'HII', 'MRNA', 'TGT', 'WTW', 'HII', 'WTW', 'HII', 'WTW', 'HII', 'PAYC', 'HII', 'STZ', 'HII', 'WBD', 'MKC', 'CHD', 'STZ', 'UDR', 'STZ', 'SWKS', 'STZ', 'GLW', 'WTW', 'STZ', 'PH', 'UBER', 'DELL', 'STZ', 'WBA', 'STZ', 'STZ', 'HII', 'HII', 'SNPS', 'PFE', 'PFE', 'STZ', 'WTW', 'UBER', 'HII', 'PFE', 'LUV', 'CHD', 'EL', 'EL', 'EL', 'HII', 'REGN', 'WTW', 'HII', 'PLTR', 'NVR', 'UNP', 'PG', 'PG', 'UNP', 'UNP', 'PG', 'UNP', 'UNP', 'UNP', 'RMD', 'MPWR', 'MPWR', 'MPWR', 'HAS', 'HAS', 'MPWR', 'TYL', 'MPWR', 'WEC', 'IR', 'STE', 'IBM', 'ADBE', 'STE', 'CHRW', 'REGN', 'IBM', 'QRVO', 'AXON', 'CL', 'DUK', 'AVY', 'STE', 'STE', 'PNW', 'GLW', 'TECH', 'GLW', 'QRVO', 'IRM', 'SNA', 'STE', 'PM', 'QRVO', 'CRL', 'GLW', 'CHRW', 'GLW', 'MCO', 'MDT', 'QRVO', 'FANG', 'CHRW', 'TRGP', 'FICO', 'VRTX', 'ADBE', 'GLW', 'NTRS', 'GLW', 'NVDA', 'STE', 'FANG', 'STE', 'CRM', 'T', 'MHK', 'MU', 'GLW', 'STE', 'GILD', 'HCA', 'BKR', 'IR', 'IR', 'MPWR', 'CL', 'BLDR', 'HES', 'GLW', 'FITB', 'GOOGL', 'GLW', 'QRVO', 'GLW', 'GLW', 'QRVO', 'META', 'STZ', 'TRGP', 'GLW', 'IBM', 'META', 'GLW', 'PAYC', 'STE', 'NKE', 'PG', 'PODD', 'HLT', 'IT', 'CRM', 'STX', 'PG', 'NKE', 'GILD', 'ADP', 'PG', 'LIN', 'BAX', 'AMZN', 'EQIX', 'EBAY', 'ETN', 'GIS', 'UNP', 'NKE', 'GM', 'TYL', 'PLTR', 'PG', 'INTU', 'GILD', 'NKE', 'MSFT', 'STX', 'CPAY', 'NKE', 'STX', 'DXCM', 'UNP', 'PTC', 'UNP', 'ENPH', 'ICE', 'GILD', 'NKE', 'TMUS', 'NKE', 'PAYC', 'NKE', 'DXCM', 'COO', 'BAX', 'PG', 'MSFT', 'CCI', 'NKE', 'MSFT', 'EW', 'LYV', 'TJX', 'NKE', 'DXCM', 'TMUS', 'MKC', 'GILD', 'GIS', 'ADSK', 'PG', 'GILD', 'GRMN', 'STX', 'PG', 'ADP', 'UNP', 'STX', 'GILD', 'MDLZ', 'UNP', 'MHK', 'IT', 'PLTR', 'PG', 'VTR', 'PG', 'VTR', 'UNP', 'PTC', 'WAB', 'WAB', 'INCY', 'WBD', 'PNC', 'ADSK', 'NVDA', 'ABNB', 'IRM', 'C', 'EA', 'NKE', 'FDX', 'PAYC', 'AMZN', 'TEL', 'NVDA', 'DELL', 'EW', 'LLY', 'PLTR', 'IRM', 'EMN', 'ORCL', 'NKE', 'MCO', 'ANET', 'L', 'DELL', 'FITB', 'CTSH', 'ORLY', 'AXON', 'PANW', 'ORLY', 'WMT', 'PNC', 'MRO', 'WMT', 'EVRG', 'MCO', 'AXON', 'XYL', 'MKC', 'MCO', 'FANG', 'GOOGL', 'META', 'ISRG', 'BXP', 'FANG', 'FANG', 'UNH', 'MCO', 'BXP', 'MCO', 'AXON', 'CLX', 'MCO', 'WTW', 'HWM', 'PODD', 'RMD', 'DOV', 'MRNA', 'BAC', 'FANG', 'PEG', 'PODD', 'WMT', 'GDDY', 'FFIV', 'MCO', 'CB', 'MKC', 'ANET', 'NVDA', 'NVR', 'PAYC', 'ETR', 'AXON', 'MCO', 'RMD', 'TSN', 'WEC', 'RMD', 'MPWR', 'LRCX', 'WEC', 'JKHY', 'DPZ', 'J', 'MNST', 'UNP', 'PAYC', 'UNP', 'BBY', 'EW', 'WEC', 'MNST', 'BR', 'BX', 'TECH', 'ABNB', 'DPZ', 'MNST', 'CRM', 'CTLT', 'DELL', 'IRM', 'DELL', 'META', 'META', 'ICE', 'UNP', 'META', 'MNST', 'EW', 'META', 'UNP', 'ICE', 'UNP', 'EW', 'UNP', 'KMB', 'BWA', 'CI', 'PANW', 'ANET', 'UNP', 'TEL', 'MSFT', 'DLTR', 'MKTX', 'HSY', 'MSFT', 'DECK', 'MSFT', 'OKE', 'MSFT', 'WDC', 'MSFT', 'ISRG', 'PLTR', 'MSFT', 'TYL', 'SO', 'ADP', 'EQIX', 'FRT', 'IDXX', 'ETR', 'MSFT', 'MSFT', 'K', 'MSFT', 'MMC', 'TROW', 'HSIC', 'EQIX', 'ROST', 'IDXX', 'BR', 'FTNT', 'MKC', 'ES', 'MSFT', 'CNC', 'PLTR', 'QRVO', 'DECK', 'PAYC', 'FICO', 'DG', 'TSLA', 'BDX', 'MSFT', 'ROK', 'SW', 'DLTR', 'SW', 'QRVO', 'AVGO', 'RMD', 'AMZN', 'DLTR', 'SW', 'SW', 'FICO', 'SW', 'SW', 'NOC', 'KEY', 'MRNA', 'PAYC', 'SW', 'SW', 'SW', 'SHW', 'HIG', 'SW', 'SW', 'SHW', 'META', 'JNJ', 'SW', 'SW', 'SHW', 'ED', 'SW', 'SHW', 'SW', 'SW', 'NVDA', 'LLY', 'ED', 'BR', 'BR', 'BR', 'BR', 'BR', 'BR', 'BR', 'BR', 'BR', 'CHD', 'CHD', 'SNPS', 'LH', 'FICO', 'VTR', 'MKTX', 'LDOS', 'NOW', 'GOOGL', 'MTD', 'WAB', 'NFLX', 'ADP', 'TRGP', 'CDNS', 'EQR', 'QCOM', 'MSCI', 'ADP', 'PNW', 'ADP', 'NOW', 'ADP', 'CBOE', 'ADP', 'EFX', 'STX', 'KLAC', 'MCO', 'CARR', 'BX', 'EFX', 'NWS', 'NOW', 'AFL', 'NOW', 'TRGP', 'UPS', 'GPN', 'ADP', 'BRO', 'TRGP', 'TMUS', 'FI', 'NWS', 'GPN', 'MSI', 'KO', 'ADP', 'ADP', 'YUM', 'ADP', 'NOW', 'MSI', 'NFLX', 'KLAC', 'TRGP', 'BA', 'PAYC', 'NWS', 'BA', 'KO', 'BR', 'BXP', 'PNC', 'RMD', 'NOW', 'SPGI', 'AJG', 'NVR', 'GOOGL', 'QCOM', 'IT', 'ADP', 'NWS', 'MCO', 'NWS', 'NOW', 'SPGI', 'DIS', 'MSI', 'TYL', 'STX', 'UPS', 'ETR', 'EW', 'ACN', 'ACN', 'ANSS', 'ACN', 'IRM', 'VRSK', 'MCK', 'ACN', 'SRE', 'META', 'EW', 'SO', 'VZ', 'VZ', 'VZ', 'CHTR', 'VZ', 'VZ', 'DELL', 'DELL', 'VRSK', 'ACN', 'VRSK', 'ORLY', 'BDX', 'VZ', 'PNC', 'VZ', 'IRM', 'EW', 'META', 'LLY', 'SWK', 'DHR', 'PAYC', 'ACN', 'SWK', 'IRM', 'ACN', 'VRSK', 'ACN', 'IRM', 'QCOM', 'DELL', 'VZ', 'CHTR', 'VZ', 'K', 'VRSK', 'DELL', 'ORLY', 'MMM', 'WEC', 'TYL', 'AOS', 'AFL', 'AON', 'CL', 'AMCR', 'BSX', 'VRTX', 'UHS', 'HUBB', 'SYK', 'META', 'WST', 'CL', 'IRM', 'KLAC', 'ABNB', 'RVTY', 'CTSH', 'WST', 'HOLX', 'CVX', 'NKE', 'DAY', 'CL', 'KLAC', 'KLAC', 'KLAC', 'HCA', 'NVDA', 'AVY', 'BLK', 'PAYC', 'PAYC', 'KLAC', 'TT', 'COF', 'AVB', 'ANET', 'SYK', 'FSLR', 'GOOGL', 'TRGP', 'META', 'MRNA', 'CRM', 'TT', 'MSCI', 'MRNA', 'BX', 'NFLX', 'PTC', 'GIS', 'CHTR', 'META', 'REGN', 'IDXX', 'LW', 'PANW', 'META', 'WEC', 'DELL', 'IT', 'LW', 'ORCL', 'AVB', 'NFLX', 'SBAC', 'K', 'LDOS', 'ORCL', 'MSI', 'SBAC', 'COR', 'LW', 'INTC', 'CMG', 'AON', 'HCA', 'ZBRA', 'LW', 'LH', 'PTC', 'LW', 'COR', 'PAYC', 'MSCI', 'ABBV', 'LW', 'NFLX', 'ORCL', 'CHTR', 'WDC', 'MMM', 'MCO', 'MSI', 'LW', 'IDXX', 'BAC', 'LW', 'AAPL', 'ORLY', 'NFLX', 'CHD', 'AMD', 'NFLX', 'CBOE', 'KO', 'GEHC', 'LDOS', 'LW', 'ETR', 'AVB', 'LW', 'NOC', 'LUV', 'PCAR', 'PANW', 'AKAM', 'WBA', 'AEP', 'PCAR', 'ACN', 'GLW', 'DOW', 'IP', 'PCAR', 'QCOM', 'ACN', 'PAYX', 'GOOGL', 'CB', 'ADP', 'NVDA', 'AMCR', 'CMS', 'FFIV', 'NWS', 'PCAR', 'COO', 'PCAR', 'PANW', 'COO', 'CBOE', 'AXON', 'PCAR', 'PFG', 'PCAR', 'PCAR', 'PFG', 'PFG', 'PFG', 'ADP', 'BSX', 'ORCL', 'ACN', 'ADP', 'PCAR', 'PCAR', 'ACN', 'LUV', 'PCAR', 'MSFT', 'PAYC', 'ADP', 'ACN', 'HSY', 'ADP', 'MCK', 'ALLE', 'PCAR', 'RMD', 'CB', 'BK', 'ADM', 'PCAR', 'PCAR', 'PCAR', 'PCAR', 'ACN', 'PCAR', 'VTR', 'PCAR', 'ACN', 'CTSH', 'PCAR', 'PCAR', 'PCAR', 'RJF', 'QRVO', 'GNRC', 'GNRC', 'FFIV', 'SW', 'ACN', 'ETN', 'PAYX', 'ECL', 'QRVO', 'GE', 'SPGI', 'JKHY', 'HPQ', 'KLAC', 'SRE', 'CHD', 'RCL', 'MDT', 'MDT', 'ACN', 'GE', 'CBOE', 'HIG', 'JKHY', 'MGM', 'CCI', 'WBD', 'SW', 'GEHC', 'ACN', 'MMC', 'KLAC', 'SW', 'MDT', 'NOW', 'ANET', 'ACN', 'BWA', 'JKHY', 'KHC', 'EA', 'T', 'PAYX', 'PAYC', 'MDT', 'AMT', 'EA', 'QRVO', 'SO', 'MCK', 'EA', 'EA', 'WBD', 'MA', 'ACN', 'PG', 'EA', 'KLAC', 'HBAN', 'GE', 'KLAC', 'AMT', 'GNRC', 'GPN', 'REGN', 'JKHY', 'EA', 'MDT', 'ECL', 'ECL', 'RMD', 'AMT', 'TECH', 'MGM', 'PAYX', 'CCI', 'QRVO', 'APH', 'PAYX', 'MMC', 'AMT', 'BLK', 'HPQ', 'GNRC', 'MDT', 'SW', 'DAY', 'GNRC', 'JCI', 'NXPI', 'QRVO', 'NVDA', 'ITW', 'SW', 'JKHY', 'SO', 'ACN', 'PNC', 'PAYX', 'MDT', 'JKHY', 'QRVO', 'PAYX', 'KMI', 'ACN', 'MGM', 'COF', 'ACN', 'LRCX', 'GEHC', 'ITW', 'KLAC', 'GPN', 'SW', 'AVY', 'KO', 'MDT', 'GNRC', 'MRK', 'ITW', 'ELV', 'QRVO', 'PAYX', 'VTR', 'NEE', 'MDT', 'GPN', 'EA', 'KLAC', 'EQIX', 'TTWO', 'BIIB', 'BA', 'CRM', 'LRCX', 'EQIX', 'CTSH', 'AMT', 'AMCR', 'WMT', 'SYY', 'F', 'GOOGL', 'GE', 'AVB', 'F', 'MSFT', 'SYY', 'MMM', 'DECK', 'EQIX', 'ANET', 'ABNB', 'LKQ', 'TTWO', 'ETN', 'LHX', 'F', 'SYY', 'LKQ', 'NRG', 'F', 'NRG', 'L', 'SYY', 'GEV', 'GDDY', 'GOOGL', 'MCHP', 'PLTR', 'AVB', 'LKQ', 'PANW', 'SYY', 'MCHP', 'REGN', 'AVB', 'LKQ', 'KR', 'F', 'WMT', 'F', 'BLK', 'CB', 'LKQ', 'RMD', 'STX', 'CAT', 'FIS', 'REGN', 'CTSH', 'MCHP', 'PGR', 'GDDY', 'BAX', 'NEM', 'PEG', 'WMT', 'MTB', 'ANET', 'CAG', 'REGN', 'BAX', 'AVB', 'PANW', 'TER', 'GDDY', 'CBOE', 'EQIX', 'EQIX', 'F', 'LKQ', 'LULU', 'AMCR', 'ANET', 'ABNB', 'SYY', 'AMCR', 'SYY', 'LKQ', 'NEM', 'TMO', 'PAYC', 'LRCX', 'META', 'AMZN', 'STX', 'BAC', 'NRG', 'F', 'KR', 'SYY', 'F', 'CB', 'IFF', 'SYY', 'ADI', 'CBRE', 'PRU', 'CDNS', 'WMT', 'LKQ', 'HSY', 'F', 'CB', 'ROST', 'HWM', 'MKC', 'GOOGL', 'MKC', 'GOOGL', 'COR', 'CNC', 'NVDA', 'SNPS', 'HWM', 'COR', 'GOOGL', 'GOOGL', 'GOOGL', 'IFF', 'WMT', 'ANET', 'GOOGL', 'AMZN', 'FDX', 'GOOGL', 'PAYC', 'BX', 'COR', 'MPC', 'CDW', 'VZ', 'EBAY', 'ADI', 'MET', 'NRG', 'EA', 'NRG', 'NEM', 'LMT', 'KLAC', 'CDW', 'FFIV', 'DFS', 'CTLT', 'PG', 'NRG', 'ANET', 'NRG', 'DFS', 'ODFL', 'NRG', 'PG', 'PG', 'DFS', 'EMR', 'PAYC', 'EA', 'KLAC', 'VZ', 'BSX', 'META', 'EA', 'MET', 'REG', 'ISRG', 'PG', 'NDSN', 'VRSK', 'SYF', 'EBAY', 'CDNS', 'CSGP', 'PG', 'NRG', 'FFIV', 'REGN', 'PLTR', 'AKAM', 'CTLT', 'BX', 'SPGI', 'VZ', 'KEYS', 'AMZN', 'OTIS', 'AVB', 'DOV', 'MET', 'NKE', 'NRG', 'UHS', 'META', 'FRT', 'LDOS', 'JCI', 'JCI', 'INVH', 'ETN', 'SYF', 'RL', 'PG', 'ANET', 'HOLX', 'PG', 'ES', 'RL', 'EMR', 'NRG', 'EA', 'CRL', 'META', 'NDSN', 'TER', 'PG', 'CSGP', 'NRG', 'CTLT', 'FSLR', 'SYF', 'VZ', 'META', 'NRG', 'MA', 'CSGP', 'CTLT', 'SPGI', 'NRG', 'JCI', 'BKR', 'CSGP', 'VZ', 'NKE', 'COR', 'RL', 'VTR', 'SYF', 'BMY', 'EBAY', 'COR', 'MA', 'NRG', 'PG', 'SYF', 'PLTR', 'AFL', 'VZ', 'CSGP', 'NKE', 'EMN', 'NRG', 'SYF', 'EA', 'REG', 'CSGP', 'REGN', 'NKE', 'EFX', 'REG', 'PGR', 'LDOS', 'SWK', 'SYF', 'EBAY', 'VST', 'KLAC', 'ETN', 'REGN', 'FFIV', 'TER', 'PG', 'KLAC', 'RL', 'PG', 'SPGI', 'NOC', 'ALLE', 'NSC', 'GDDY', 'JCI', 'RL', 'CSGP', 'FFIV', 'RL', 'PHM', 'KIM', 'LHX', 'J', 'KLAC', 'REGN', 'NKE', 'WMT', 'JCI', 'MAS', 'PG', 'VST', 'CTLT', 'NRG', 'COR', 'FFIV', 'FFIV', 'COR', 'KO', 'REG', 'PG', 'REG', 'NKE', 'NRG', 'RL', 'KLAC', 'EA', 'CSGP', 'QCOM', 'RL', 'RL', 'VZ', 'GDDY', 'VZ', 'EA', 'SYF', 'NRG', 'REG', 'ANET', 'DD', 'HUM', 'DD', 'DD', 'DD', 'L', 'TRGP', 'BG', 'DECK', 'MSCI', 'L', 'LUV', 'NFLX', 'PAYC', 'ANSS', 'ETR', 'DD', 'MLM', 'ADM', 'CTSH', 'ETR', 'INTU', 'BG', 'CTSH', 'BLDR', 'IVZ', 'GWW', 'NFLX', 'GWW', 'IDXX', 'GWW', 'GRMN', 'DECK', 'GEHC', 'GEHC', 'OKE', 'BLDR', 'ADP', 'CI', 'BG', 'ESS', 'ADP', 'BLDR', 'IDXX', 'DOV', 'PCAR', 'T', 'DECK', 'BG', 'CTSH', 'ROL', 'ADP', 'CI', 'GWW', 'OKE', 'GEHC', 'MTCH', 'OKE', 'ADP', 'BAC', 'BLDR', 'CTSH', 'T', 'VRTX', 'ETR', 'CTSH', 'ETR', 'INTC', 'L', 'GWW', 'META', 'ETR', 'BG', 'INTU', 'NFLX', 'MRNA', 'AXON', 'GNRC', 'NFLX', 'PSX', 'IT', 'LUV', 'BLDR', 'NFLX', 'NKE', 'V', 'LLY', 'CTSH', 'GWW', 'MSCI', 'CVX', 'GWW', 'MRNA', 'CI', 'ADP', 'ETN', 'BG', 'ACN', 'BLDR', 'OKE', 'NKE', 'MSCI', 'WDC', 'AWK', 'INTU', 'NKE', 'OKE', 'OKE', 'DECK', 'ETR', 'DECK', 'ARE', 'GEHC', 'VLTO', 'ABT', 'HBAN', 'IT', 'GEHC', 'GNRC', 'ZTS', 'DOC', 'CVX', 'KR', 'IT', 'GWW', 'HWM', 'BG', 'GRMN', 'EVRG', 'ITW', 'NFLX', 'T', 'CVX', 'NKE', 'ADP', 'BEN', 'BEN', 'COP', 'BDX', 'IP', 'PNC', 'IVZ', 'IVZ', 'SNPS', 'COP', 'BEN', 'SNPS', 'TFC', 'WM', 'BEN', 'BEN', 'WAB', 'SNPS', 'JCI', 'GEHC', 'IT', 'ANSS', 'BEN', 'PCAR', 'SNPS', 'BDX', 'BEN', 'SNPS', 'SNPS', 'COP', 'JCI', 'CB', 'ANSS', 'BG', 'BG', 'DECK', 'TEL', 'ADP', 'SHW', 'BEN', 'EL', 'QCOM', 'KR', 'BG', 'BG', 'GWW', 'BKR', 'ETR', 'ETR', 'SHW', 'SOLV', 'QCOM', 'OKE', 'NVDA', 'OKE', 'NKE', 'NKE', 'ACN', 'KR', 'IRM', 'QRVO', 'NFLX', 'GE', 'CPAY', 'INTU', 'DECK', 'EQIX', 'BLDR', 'ADP', 'ADP', 'MTCH', 'ACN', 'GWW', 'PNR', 'ABT', 'GEHC', 'WDC', 'INTU', 'INTU', 'BLDR', 'BG', 'INTU', 'ADM', 'T', 'DECK', 'BG', 'NKE', 'ETR', 'NKE', 'EA', 'ETR', 'INTU', 'BKR', 'ETR', 'ETR', 'L', 'ANSS', 'L', 'NFLX', 'GWW', 'ADP', 'BG', 'OKE', 'NFLX', 'VRTX', 'NFLX', 'BG', 'DECK', 'T', 'ANSS', 'AMP', 'IT', 'ADP', 'GWW', 'CTSH', 'BG', 'NFLX', 'ACN', 'GOOGL', 'MLM', 'IT', 'PLTR', 'TYL', 'EW', 'EXPE', 'IBM', 'IBM', 'MSFT', 'BSX', 'MSFT', 'JKHY', 'MSFT', 'TECH', 'CME', 'MSFT', 'ISRG', 'MCD', 'AJG', 'MSFT', 'PFE', 'ABNB', 'JKHY', 'TXN', 'IT', 'ODFL', 'HBAN', 'TXN', 'META', 'MSFT', 'LYV', 'JKHY', 'TGT', 'JKHY', 'JKHY', 'HSY', 'ODFL', 'MCD', 'J', 'DXCM', 'FDS', 'BBY', 'TGT', 'BBY', 'PAYC', 'VZ', 'VZ', 'LUV', 'VZ', 'LUV', 'LUV', 'LUV', 'VZ', 'LUV', 'VZ', 'DGX', 'IT', 'CMG', 'BSX', 'PFE', 'META', 'PODD', 'TXN', 'WM', 'J', 'HOLX', 'VZ', 'LUV', 'VZ', 'VZ', 'LUV', 'LUV', 'PFE', 'PYPL', 'ABNB', 'MSFT', 'MLM', 'PODD', 'KEY', 'WEC', 'J', 'ADSK', 'MLM', 'MPWR', 'FFIV', 'MSFT', 'JNJ', 'CAT', 'CVS', 'VLTO', 'PPG', 'NOC', 'CHD', 'CHD', 'PPG', 'TXN', 'PCAR', 'TRV', 'TER', 'CHD', 'CHD', 'CHD', 'CHD', 'PPG', 'ES', 'CHD', 'CHD', 'PPG', 'BA', 'CL', 'NWS', 'FFIV', 'SCHW', 'GOOGL', 'NTAP', 'IT', 'BA', 'ICE', 'BA', 'PANW', 'SCHW', 'META', 'HBAN', 'SYK', 'HBAN', 'PAYX', 'CTSH', 'WFC', 'HBAN', 'VICI', 'HBAN', 'INTU', 'NEM', 'OMC', 'IT', 'OMC', 'HBAN', 'HBAN', 'HBAN', 'HBAN', 'HBAN', 'PANW', 'CSGP', 'NEM', 'IT', 'IT', 'IT', 'HBAN', 'J', 'MCHP', 'CL', 'SJM', 'RF', 'SMCI', 'VICI', 'CTSH', 'EXR', 'NWS', 'BA', 'IT', 'HBAN', 'META', 'BA', 'DPZ', 'INTU', 'VICI', 'HBAN', 'ICE', 'HBAN', 'HBAN', 'MCHP', 'JNPR', 'FE', 'TER', 'NWS', 'BK', 'SCHW', 'LHX', 'BK', 'OMC', 'CSGP', 'HBAN', 'HBAN', 'OMC', 'ALL', 'LHX', 'ZBH', 'EXR', 'VICI', 'BA', 'OMC', 'PYPL', 'AMAT', 'SCHW', 'ALL', 'CRM', 'META', 'LLY', 'WFC', 'IBM', 'INTU', 'OMC', 'SMCI', 'ANET', 'VICI', 'MCHP', 'HBAN', 'ALL', 'PAYC', 'FE', 'PAYX', 'BA', 'BA', 'HBAN', 'DUK', 'HBAN', 'NEM', 'INTU', 'CL', 'INTU', 'NTAP', 'FE', 'KLAC', 'KLAC', 'ICE', 'HBAN', 'ANET', 'INTU', 'BA', 'NTAP', 'IT', 'ANET', 'GDDY', 'SMCI', 'MCHP', 'HBAN', 'SCHW', 'NWS', 'ANET', 'OMC', 'AMZN', 'HBAN', 'HBAN', 'FE', 'OMC', 'SMCI', 'FE', 'CL', 'LHX', 'INTU', 'ULTA', 'NTAP', 'HBAN', 'CZR', 'NWS', 'BA', 'GDDY', 'IT', 'GNRC', 'IT', 'EXR', 'IT', 'FE', 'LHX', 'MCD', 'META', 'OMC', 'OMC', 'BK', 'HBAN', 'MGM', 'PAYX', 'HBAN', 'MGM', 'SJM', 'WFC', 'PYPL', 'NTAP', 'MGM', 'FE', 'VICI', 'FE', 'CHRW', 'NTAP', 'HBAN', 'BK', 'LHX', 'NWS', 'PNC', 'GPC', 'EVRG', 'IT', 'INTU', 'HBAN', 'SMCI', 'HBAN', 'CZR', 'MPC', 'SO', 'PPL', 'INCY', 'EG', 'PPL', 'GLW', 'PNC', 'PNC', 'ALB', 'PPL', 'KEY', 'PPL', 'GPC', 'A', 'PNC', 'ALB', 'MPC', 'INCY', 'ALB', 'ABNB', 'SO', 'SO', 'SO', 'SO', 'MPC', 'VZ', 'MPC', 'JBHT', 'VZ', 'SO', 'SO', 'MPC', 'MPC', 'MPC', 'MPC', 'SO', 'SO', 'MPC', 'CB', 'MPC', 'SO', 'MPC', 'TSN', 'SO', 'NI', 'ALB', 'PPL', 'MPC', 'SO', 'INCY', 'GPC', 'NI', 'PNC', 'ALB', 'NFLX', 'GPC', 'TT', 'ALB', 'PPL', 'PNC', 'GPC', 'PPL', 'ALB', 'INCY', 'ALB', 'MRO', 'PNC', 'GPC', 'GPC', 'A', 'PNC', 'INCY', 'JCI', 'PPL', 'INCY', 'SCHW', 'PPL', 'ALB', 'SO', 'GPC', 'INCY', 'SCHW', 'WAT', 'PSA', 'LRCX', 'PPG', 'AEP', 'AXP', 'APA', 'MRK', 'KR', 'PLD', 'MRK', 'LRCX', 'PSA', 'MPWR', 'PSA', 'CHD', 'PLD', 'DLTR', 'PGR', 'KR', 'T', 'MO', 'MPWR', 'AXP', 'T', 'PLD', 'PRU', 'DLTR', 'WAT', 'LRCX', 'DLTR', 'DLTR', 'APD', 'PLD', 'APA', 'GOOGL', 'PCAR', 'DLTR', 'COP', 'APA', 'MRK', 'CHD', 'DLTR', 'AEP', 'PCAR', 'AEP', 'PCAR', 'APD', 'SNPS', 'INCY', 'APD', 'TYL', 'MTD', 'T', 'AEP', 'PCAR', 'HAS', 'AXP', 'PGR', 'LRCX', 'DLTR', 'INCY', 'DLTR', 'DLTR', 'AEP', 'DLTR', 'AEP', 'PLD', 'AXP', 'PPG', 'CHD', 'T', 'APA', 'APD', 'PNW', 'BEN', 'AEP', 'APA', 'PLD', 'T', 'PRU', 'AEP', 'APD', 'AEP', 'AEP', 'DLTR', 'APA', 'APD', 'APA', 'APA', 'AXP', 'CHD', 'BDX', 'APD', 'PLD', 'TYL', 'NTRS', 'BEN', 'APD', 'AEP', 'T', 'CHD', 'HAS', 'CHD', 'EOG', 'HLT', 'JCI', 'PSA', 'PSA', 'PLD', 'COP', 'APA', 'PLD', 'PLD', 'EXC', 'HSY', 'FI', 'XEL', 'TSCO', 'PNW', 'ZBH', 'CEG', 'HIG', 'EQT', 'XEL', 'EA', 'GIS', 'C', 'ECL', 'UAL', 'BMY', 'DLR', 'ZTS', 'URI', 'LOW', 'NTRS', 'KEY', 'NTRS', 'MOH', 'GIS', 'LDOS', 'INTC', 'BLK', 'SRE', 'AIG', 'AIG', 'FI', 'ECL', 'DLR', 'HSY', 'ABBV', 'AIG', 'CHRW', 'UNP', 'UNP', 'HII', 'UNH', 'XEL', 'EQT', 'CHRW', 'AIG', 'HLT', 'ADI', 'HII', 'KMX', 'TRGP', 'ZBH', 'NTAP', 'NTRS', 'MOH', 'NDAQ', 'SYF', 'CEG', 'ABT', 'ARE', 'CEG', 'CHRW', 'VTR', 'UNP', 'TSCO', 'ZBH', 'ECL', 'ADM', 'DTE', 'BLK', 'SYF', 'EXC', 'KMX', 'EOG', 'MU', 'ABT', 'DIS', 'GIS', 'CRWD', 'BLK', 'HLT', 'REGN', 'CDNS', 'ADM', 'DIS', 'HUM', 'BMY', 'SYF', 'HII', 'IR', 'HSY', 'SPG', 'DLR', 'IBM', 'EA', 'ADM', 'CRWD', 'CHRW', 'COR', 'BLK', 'WMT', 'IBM', 'EXC', 'NDAQ', 'ZBH', 'FI', 'CHRW', 'HII', 'MPWR', 'ECL', 'MOH', 'ECL', 'NFLX', 'ABT', 'AXP', 'MOH', 'XEL', 'ADM', 'HII', 'LDOS', 'SYF', 'WMT', 'UNP', 'MOH', 'PNW', 'SYF', 'GIS', 'GIS', 'SMCI', 'ODFL', 'MOH', 'CLX', 'IBM', 'QCOM', 'BLK', 'ZBH', 'SRE', 'ZBH', 'WMT', 'SPG', 'DIS', 'NTRS', 'INTC', 'KEY', 'ADM', 'MTCH', 'CLX', 'FI', 'EOG', 'SYF', 'DLR', 'CLX', 'EXC', 'SMCI', 'BLK', 'PSX', 'AXP', 'PAYC', 'INTC', 'MMM', 'IBM', 'BMY', 'LDOS', 'FI', 'MMM', 'HLT', 'CNC', 'HII', 'CDNS', 'C', 'UNP', 'IBM', 'GIS', 'SRE', 'ABBV', 'GIS', 'SYF', 'CHRW', 'TMUS', 'INTC', 'FI', 'SYF', 'KMX', 'UNH', 'HWM', 'NFLX', 'CLX', 'SPG', 'SPG', 'SPG', 'ZBH', 'ON', 'HPE', 'MPWR', 'NFLX', 'C', 'DIS', 'LOW', 'HLT', 'ABT', 'UNH', 'GIS', 'HII', 'CHRW', 'CLX', 'NDAQ', 'CHTR', 'SRE', 'SRE', 'MCO', 'CEG', 'ADM', 'GE', 'REGN', 'DIS', 'SRE', 'NFLX', 'CNC', 'UNP', 'TAP', 'LOW', 'CHRW', 'UNP', 'NTRS', 'HII', 'ZBH', 'QCOM', 'MOH', 'AIG', 'UNH', 'TMO', 'SYF', 'WMT', 'DIS', 'NFLX', 'SYF', 'MTCH', 'PLTR', 'CLX', 'DIS', 'HLT', 'IPG', 'IBM', 'MTCH', 'C', 'TMO', 'TMUS', 'BLK', 'MOH', 'C', 'FI', 'BSX', 'UNP', 'HII', 'BLK', 'HLT', 'ADM', 'C', 'UAL', 'SPG', 'ARE', 'OKE', 'SYF', 'DIS', 'BLK', 'NFLX', 'BSX', 'SRE', 'BWA', 'C', 'CEG', 'ABT', 'ECL', 'ZBH', 'IBM', 'WMT', 'C', 'WMT', 'GIS', 'WMT', 'PANW', 'AXP', 'CZR', 'ECL', 'XEL', 'UNP', 'LOW', 'HLT', 'ADP', 'TMO', 'NFLX', 'HSY', 'ABBV', 'UAL', 'HII', 'BMY', 'LOW', 'DLR', 'IBM', 'KMX', 'DIS', 'MDT', 'UNH', 'XEL', 'KMX', 'NTRS', 'KEY', 'LOW', 'CHRW', 'HSY', 'IBM', 'ADM', 'UNP', 'CHRW', 'MOH', 'SWK', 'CEG', 'SMCI', 'DIS', 'DTE', 'IFF', 'CEG', 'PLTR', 'KMX', 'VTR', 'KMX', 'IBM', 'EXC', 'ADM', 'CDNS', 'NVDA', 'AIG', 'CLX', 'CNC', 'URI', 'EXC', 'WMT', 'CLX', 'UNH', 'UNH', 'DLR', 'HPE', 'C', 'SYF', 'AIG', 'SRE', 'NTRS', 'LMT', 'CEG', 'HWM', 'ABBV', 'CHRW', 'LLY', 'HUM', 'HAL', 'GRMN', 'SPG', 'HUM', 'FOX', 'NFLX', 'LDOS', 'HSY', 'AIZ', 'IBM', 'CEG', 'ED', 'ADI', 'XEL', 'KEY', 'HSY', 'UAL', 'CEG', 'KMX', 'BLK', 'ARE', 'TMO', 'GIS', 'GIS', 'GIS', 'IBM', 'CNC', 'MOH', 'DVN', 'VTR', 'SPG', 'SPG', 'AIG', 'ADM', 'NFLX', 'MOH', 'NFLX', 'GE', 'HSY', 'UNH', 'AIG', 'HSY', 'VTR', 'MSI', 'WMT', 'EQT', 'UNP', 'KMX', 'DIS', 'KEY', 'ECL', 'EXC', 'UNH', 'EXC', 'DGX', 'CNC', 'BMY', 'INCY', 'GOOGL', 'SPG', 'ECL', 'SPG', 'GRMN', 'BMY', 'FDX', 'NTRS', 'LMT', 'C', 'ECL', 'KMX', 'HII', 'HPE', 'HWM', 'SMCI', 'ECL', 'PANW', 'BMY', 'KMX', 'NFLX', 'ADP', 'AVY', 'IRM', 'PAYC', 'FDS', 'KMI', 'NFLX', 'KMI', 'TMUS', 'IT', 'PFE', 'PNW', 'CINF', 'ARE', 'NFLX', 'T', 'SCHW', 'CINF', 'AWK', 'PFE', 'MDT', 'AWK', 'T', 'T', 'NDSN', 'PNW', 'ROL', 'PNC', 'AWK', 'PFE', 'PNW', 'BDX', 'BDX', 'AWK', 'DRI', 'TYL', 'TYL', 'AEP', 'SYY', 'KMI', 'SBAC', 'STT', 'IT', 'VLTO', 'PANW', 'NFLX', 'IT', 'PTC', 'NFLX', 'NVDA', 'SYK', 'CTAS', 'MMM', 'PSX', 'KMI', 'SYY', 'FTNT', 'CTVA', 'CBRE', 'IT', 'NFLX', 'HIG', 'GLW', 'RJF', 'IT', 'SYY', 'URI', 'FTNT', 'DLR', 'T', 'NOC', 'TRGP', 'AMP', 'VRTX', 'T', 'HUM', 'HCA', 'GLW', 'SYY', 'SCHW', 'IT', 'MPWR', 'INTC', 'T', 'SYK', 'ANSS', 'FTNT', 'KMI', 'HIG', 'COP', 'T', 'NFLX', 'CL', 'HWM', 'IT', 'EIX', 'PFE', 'SCHW', 'T', 'URI', 'DHR', 'SYY', 'T', 'DHR', 'INTC', 'PPL', 'LLY', 'PANW', 'ADM', 'AJG', 'KMI', 'ADP', 'DHR', 'MCO', 'T', 'T', 'ODFL', 'T', 'FTNT', 'KMI', 'HUM', 'KMI', 'SYY', 'INTC', 'T', 'SYY', 'DECK', 'ON', 'NFLX', 'TECH', 'NDSN', 'GNRC', 'NFLX', 'FDS', 'IT', 'NFLX', 'T', 'SYY', 'CTVA', 'T', 'GOOGL', 'IT', 'MRNA', 'T', 'NFLX', 'T', 'FSLR', 'FDX', 'FSLR', 'AZO', 'CRM', 'AZO', 'PFG', 'APD', 'NVDA', 'PFE', 'FTV', 'MCD', 'ROK', 'MCD', 'TROW', 'NVDA', 'PFG', 'AIG', 'PFG', 'AZO', 'PAYC', 'JPM', 'O', 'MU', 'ANET', 'NVDA', 'PFG', 'PFG', 'CHD', 'BXP', 'CHD', 'PFE', 'BEN', 'BXP', 'BXP', 'CHD', 'CHD', 'CHD', 'PFE', 'LRCX', 'MAR', 'CHD', 'CMCSA', 'CHD', 'PFE', 'CMCSA', 'QCOM', 'PFG', 'TRV', 'PFE', 'PFE', 'CMCSA', 'FDX', 'PODD', 'ADSK', 'PFG', 'NVDA', 'JNPR', 'BXP', 'PNC', 'ERIE', 'PCAR', 'PCAR', 'BXP', 'ERIE', 'PFG', 'GILD', 'PFG', 'FCX', 'BXP', 'PFE', 'BXP', 'XOM', 'PGR', 'XOM', 'CHD', 'NEE', 'ROK', 'FTV', 'AZO', 'PFG', 'EXPE', 'QCOM', 'FSLR', 'FTV', 'FSLR', 'PFG', 'NVDA', 'CAT', 'PPG', 'FSLR', 'PFG', 'MMM', 'NVDA', 'FTV', 'PFE', 'MPWR', 'LLY', 'CCI', 'FSLR', 'PFG', 'GLW', 'PFG', 'FSLR', 'JPM', 'NVDA', 'FSLR', 'JPM', 'PFG', 'PFG', 'FTV', 'WBD', 'FTV', 'TER', 'FTV', 'PFG', 'NVDA', 'IP', 'TROW', 'TROW', 'HUM', 'NOW', 'IBM', 'ON', 'T', 'FDS', 'NKE', 'PPG', 'CMCSA', 'EFX', 'GEHC', 'T', 'CMCSA', 'FCX', 'ADP', 'PPG', 'PPG', 'GLW', 'FTV', 'PFE', 'PFG', 'TRV', 'META', 'CMCSA', 'GLW', 'NVDA', 'FSLR', 'AMZN', 'GPN', 'EW', 'FSLR', 'META', 'META', 'T', 'CAT', 'MMM', 'EXPE', 'AZO', 'AZO', 'PFG', 'TER', 'NVDA', 'TXT', 'FTV', 'ABNB', 'JPM', 'PFG', 'JPM', 'O', 'NVDA', 'FSLR', 'GLW', 'MCD', 'TROW', 'TROW', 'FSLR', 'GLW', 'PFG', 'T', 'KVUE', 'TROW', 'TROW', 'GLW', 'CMCSA', 'CMCSA', 'LYB', 'IP', 'UNP', 'DLTR', 'NUE', 'ERIE', 'CMS', 'NOC', 'EIX', 'ERIE', 'ERIE', 'NOC', 'NOC', 'TEL', 'ERIE', 'NOC', 'NOC', 'ERIE', 'ERIE', 'NOC', 'ERIE', 'NOC', 'NOC', 'ERIE', 'NOC', 'ERIE', 'NOC', 'WAB', 'KMB', 'NOC', 'ERIE', 'EFX', 'PPG', 'CHD', 'AEP', 'CHD', 'SPGI', 'NTRS', 'EOG', 'ERIE', 'KMB', 'NOC', 'AOS', 'AEP', 'ABNB', 'CHD', 'MCK', 'MCK', 'VRTX', 'EOG', 'ORLY', 'UDR', 'EOG', 'GM', 'PNR', 'SPGI', 'PPG', 'RTX', 'INTC', 'META', 'NXPI', 'EOG', 'EOG', 'SPGI', 'ADM', 'TMO', 'MCK', 'HOLX', 'EOG', 'MCK', 'SNA', 'EOG', 'RTX', 'NEE', 'MCK', 'SPGI', 'ORLY', 'DOV', 'TXN', 'CMG', 'SHW', 'PAYC', 'MTB', 'WMT', 'RCL', 'CSGP', 'MCK', 'FDS', 'CHD', 'PPG', 'PPG', 'CHD', 'BAC', 'INTC', 'MCK', 'EOG', 'EOG', 'MCK', 'ORLY', 'ODFL', 'EOG', 'LUV', 'MCK', 'LUV', 'AWK', 'DXCM', 'CHD', 'CHD', 'CHD', 'ZTS', 'MCK', 'BSX', 'APH', 'JCI', 'RJF', 'INTC', 'ORLY', 'EA', 'MAS']\n"
     ]
    }
   ],
   "source": [
    "#make list of stocks in my universe and in SP500\n",
    "combined= []\n",
    "for stock in universe:\n",
    "    if stock in SNP['Symbol'].values:\n",
    "        combined.append(stock)\n",
    "\n",
    "print(combined)\n"
   ]
  },
  {
   "cell_type": "markdown",
   "metadata": {},
   "source": [
    "### Pulling out only the important information from each of the EDGAR files and doing a Merge"
   ]
  },
  {
   "cell_type": "code",
   "execution_count": 412,
   "metadata": {},
   "outputs": [],
   "source": [
    "# merge dataFrames\n",
    "combo=submission.merge(non_deriv_trans,on='ACCESSION_NUMBER', how='inner')\n",
    "combo=combo.merge(owner_agg,on='ACCESSION_NUMBER', how='inner')"
   ]
  },
  {
   "cell_type": "code",
   "execution_count": 413,
   "metadata": {},
   "outputs": [],
   "source": [
    "combo= combo.iloc[:][['ACCESSION_NUMBER','ISSUERTRADINGSYMBOL','TRANS_DATE','TRANS_FORM_TYPE',\n",
    "                      'TRANS_CODE','TRANS_SHARES','TRANS_PRICEPERSHARE',\n",
    "                      'ACCESSION_NUMBER','RPTOWNERNAME']]\n"
   ]
  },
  {
   "cell_type": "code",
   "execution_count": 414,
   "metadata": {},
   "outputs": [
    {
     "data": {
      "text/plain": [
       "(55881, 9)"
      ]
     },
     "execution_count": 414,
     "metadata": {},
     "output_type": "execute_result"
    }
   ],
   "source": [
    "combo.shape"
   ]
  },
  {
   "cell_type": "code",
   "execution_count": 415,
   "metadata": {},
   "outputs": [
    {
     "data": {
      "text/plain": [
       "(11422, 10)"
      ]
     },
     "execution_count": 415,
     "metadata": {},
     "output_type": "execute_result"
    }
   ],
   "source": [
    "#make a field to say whether data in SP500 in the submission data\n",
    "combo['is_sp500']= combo['ISSUERTRADINGSYMBOL'].isin(combined)\n",
    "\n",
    "#remove those not in SP500\n",
    "combo=combo[combo['is_sp500']==True]\n",
    "combo.shape"
   ]
  },
  {
   "cell_type": "code",
   "execution_count": 416,
   "metadata": {},
   "outputs": [
    {
     "name": "stdout",
     "output_type": "stream",
     "text": [
      "<class 'pandas.core.frame.DataFrame'>\n",
      "Index: 5669 entries, 0 to 55864\n",
      "Data columns (total 10 columns):\n",
      " #   Column               Non-Null Count  Dtype  \n",
      "---  ------               --------------  -----  \n",
      " 0   ACCESSION_NUMBER     5669 non-null   object \n",
      " 1   ISSUERTRADINGSYMBOL  5669 non-null   object \n",
      " 2   TRANS_DATE           5669 non-null   object \n",
      " 3   TRANS_FORM_TYPE      5669 non-null   int64  \n",
      " 4   TRANS_CODE           5669 non-null   object \n",
      " 5   TRANS_SHARES         5669 non-null   float64\n",
      " 6   TRANS_PRICEPERSHARE  5669 non-null   float64\n",
      " 7   ACCESSION_NUMBER     5669 non-null   object \n",
      " 8   RPTOWNERNAME         5669 non-null   object \n",
      " 9   is_sp500             5669 non-null   bool   \n",
      "dtypes: bool(1), float64(2), int64(1), object(6)\n",
      "memory usage: 448.4+ KB\n"
     ]
    }
   ],
   "source": [
    "#calculate how many data points are of each transaction type\n",
    "combo['TRANS_CODE'].value_counts(True)\n",
    "\n",
    "#remove those transactions which are not S or P\n",
    "\n",
    "combo=combo[(combo['TRANS_CODE']=='P') | (combo['TRANS_CODE']=='S')]\n",
    "combo.info()"
   ]
  },
  {
   "cell_type": "code",
   "execution_count": 417,
   "metadata": {},
   "outputs": [
    {
     "name": "stdout",
     "output_type": "stream",
     "text": [
      "<class 'pandas.core.frame.DataFrame'>\n",
      "Index: 5669 entries, 0 to 55864\n",
      "Data columns (total 10 columns):\n",
      " #   Column               Non-Null Count  Dtype         \n",
      "---  ------               --------------  -----         \n",
      " 0   ACCESSION_NUMBER     5669 non-null   object        \n",
      " 1   ISSUERTRADINGSYMBOL  5669 non-null   object        \n",
      " 2   TRANS_DATE           5669 non-null   datetime64[ns]\n",
      " 3   TRANS_FORM_TYPE      5669 non-null   int64         \n",
      " 4   TRANS_CODE           5669 non-null   object        \n",
      " 5   TRANS_SHARES         5669 non-null   float64       \n",
      " 6   TRANS_PRICEPERSHARE  5669 non-null   float64       \n",
      " 7   ACCESSION_NUMBER     5669 non-null   object        \n",
      " 8   RPTOWNERNAME         5669 non-null   object        \n",
      " 9   is_sp500             5669 non-null   bool          \n",
      "dtypes: bool(1), datetime64[ns](1), float64(2), int64(1), object(5)\n",
      "memory usage: 448.4+ KB\n"
     ]
    }
   ],
   "source": [
    "# Putting date to datetime format\n",
    "combo['TRANS_DATE']=pd.to_datetime(combo['TRANS_DATE'],format=\"%d-%b-%Y\")\n",
    "combo.info()"
   ]
  },
  {
   "cell_type": "code",
   "execution_count": 418,
   "metadata": {},
   "outputs": [
    {
     "data": {
      "text/plain": [
       "(5668, 10)"
      ]
     },
     "execution_count": 418,
     "metadata": {},
     "output_type": "execute_result"
    }
   ],
   "source": [
    "#only focus on transactions where the transaction_form_type is 4 (which are regularly reported trades)\n",
    "\n",
    "combo=combo[combo['TRANS_FORM_TYPE']==4]\n",
    "combo.shape"
   ]
  },
  {
   "cell_type": "code",
   "execution_count": 419,
   "metadata": {},
   "outputs": [
    {
     "name": "stdout",
     "output_type": "stream",
     "text": [
      "<class 'pandas.core.frame.DataFrame'>\n",
      "Index: 5668 entries, 0 to 55864\n",
      "Data columns (total 10 columns):\n",
      " #   Column               Non-Null Count  Dtype         \n",
      "---  ------               --------------  -----         \n",
      " 0   ACCESSION_NUMBER     5668 non-null   object        \n",
      " 1   ISSUERTRADINGSYMBOL  5668 non-null   object        \n",
      " 2   TRANS_DATE           5668 non-null   datetime64[ns]\n",
      " 3   TRANS_FORM_TYPE      5668 non-null   int64         \n",
      " 4   TRANS_CODE           5668 non-null   object        \n",
      " 5   TRANS_SHARES         5668 non-null   float64       \n",
      " 6   TRANS_PRICEPERSHARE  5668 non-null   float64       \n",
      " 7   ACCESSION_NUMBER     5668 non-null   object        \n",
      " 8   RPTOWNERNAME         5668 non-null   object        \n",
      " 9   is_sp500             5668 non-null   bool          \n",
      "dtypes: bool(1), datetime64[ns](1), float64(2), int64(1), object(5)\n",
      "memory usage: 448.3+ KB\n"
     ]
    }
   ],
   "source": [
    "combo.info()"
   ]
  },
  {
   "cell_type": "code",
   "execution_count": 420,
   "metadata": {},
   "outputs": [
    {
     "data": {
      "text/plain": [
       "(5668, 10)"
      ]
     },
     "execution_count": 420,
     "metadata": {},
     "output_type": "execute_result"
    }
   ],
   "source": [
    "# Remove transactions where either the Transaction price is zero or NA\n",
    "\n",
    "combo=combo[combo['TRANS_PRICEPERSHARE']!=0]\n",
    "combo=combo.dropna(how='any',subset=['TRANS_PRICEPERSHARE'])\n",
    "combo.shape"
   ]
  },
  {
   "cell_type": "code",
   "execution_count": 421,
   "metadata": {},
   "outputs": [
    {
     "data": {
      "text/plain": [
       "(5629, 10)"
      ]
     },
     "execution_count": 421,
     "metadata": {},
     "output_type": "execute_result"
    }
   ],
   "source": [
    "# Remove transactions outside the study period, in this case outside Q3 2024 as assume those are late submissions\n",
    "\n",
    "combo=combo[(combo['TRANS_DATE']>=Set_start_date)]\n",
    "combo.shape"
   ]
  },
  {
   "cell_type": "code",
   "execution_count": 422,
   "metadata": {},
   "outputs": [],
   "source": [
    "# Calculating cost of transacted shares per line item (to be used later for getting avg cost of transacted stock)\n",
    "combo['value_transacted']= combo['TRANS_SHARES'] * combo['TRANS_PRICEPERSHARE']\n"
   ]
  },
  {
   "cell_type": "markdown",
   "metadata": {},
   "source": [
    "## Retrieving Stock data"
   ]
  },
  {
   "cell_type": "code",
   "execution_count": 423,
   "metadata": {},
   "outputs": [
    {
     "data": {
      "text/plain": [
       "count                             5629\n",
       "mean     2024-08-11 11:04:21.573991680\n",
       "min                2024-06-27 00:00:00\n",
       "25%                2024-07-25 00:00:00\n",
       "50%                2024-08-12 00:00:00\n",
       "75%                2024-08-30 00:00:00\n",
       "max                2024-09-30 00:00:00\n",
       "Name: TRANS_DATE, dtype: object"
      ]
     },
     "execution_count": 423,
     "metadata": {},
     "output_type": "execute_result"
    }
   ],
   "source": [
    "combo.iloc[:]['TRANS_DATE'].describe()"
   ]
  },
  {
   "cell_type": "code",
   "execution_count": 424,
   "metadata": {},
   "outputs": [],
   "source": [
    "#get the full list of stocks we need data for\n",
    "#get rid of repeats using set and list\n",
    "stock_selection=combo['ISSUERTRADINGSYMBOL']\n",
    "stock_selection=set(stock_selection)\n",
    "stock_selection=list(stock_selection) + [\"ES\"]\n"
   ]
  },
  {
   "cell_type": "code",
   "execution_count": 425,
   "metadata": {},
   "outputs": [
    {
     "name": "stderr",
     "output_type": "stream",
     "text": [
      "[*********************100%***********************]  372 of 372 completed\n"
     ]
    }
   ],
   "source": [
    "#pull in stock data from what was Yahoo Finance\n",
    "data = yf.download(stock_selection, period=\"1y\")\n",
    "\n"
   ]
  },
  {
   "cell_type": "code",
   "execution_count": 426,
   "metadata": {},
   "outputs": [
    {
     "data": {
      "text/plain": [
       "MultiIndex([('Adj Close',    'A'),\n",
       "            ('Adj Close', 'AAPL'),\n",
       "            ('Adj Close', 'ABBV'),\n",
       "            ('Adj Close', 'ABNB'),\n",
       "            ('Adj Close',  'ABT'),\n",
       "            ('Adj Close', 'ACGL'),\n",
       "            ('Adj Close',  'ACN'),\n",
       "            ('Adj Close', 'ADBE'),\n",
       "            ('Adj Close',  'ADI'),\n",
       "            ('Adj Close',  'ADM'),\n",
       "            ...\n",
       "            (   'Volume',  'WEC'),\n",
       "            (   'Volume',   'WM'),\n",
       "            (   'Volume',  'WMT'),\n",
       "            (   'Volume',  'WST'),\n",
       "            (   'Volume',   'WY'),\n",
       "            (   'Volume', 'WYNN'),\n",
       "            (   'Volume',  'XEL'),\n",
       "            (   'Volume',  'XYL'),\n",
       "            (   'Volume',  'YUM'),\n",
       "            (   'Volume', 'ZBRA')],\n",
       "           names=['Price', 'Ticker'], length=2232)"
      ]
     },
     "execution_count": 426,
     "metadata": {},
     "output_type": "execute_result"
    }
   ],
   "source": [
    "data.columns"
   ]
  },
  {
   "cell_type": "code",
   "execution_count": 427,
   "metadata": {},
   "outputs": [],
   "source": [
    "#select only close prices\n",
    "data=data['Close']"
   ]
  },
  {
   "cell_type": "code",
   "execution_count": 428,
   "metadata": {},
   "outputs": [],
   "source": [
    "#remove time-zone data from 'data' so it can be indexed\n",
    "\n",
    "data=data.tz_convert(None)\n"
   ]
  },
  {
   "cell_type": "markdown",
   "metadata": {},
   "source": [
    "## Shifting my stock prices so that I can see price development after the transaction"
   ]
  },
  {
   "cell_type": "code",
   "execution_count": 429,
   "metadata": {},
   "outputs": [],
   "source": [
    "#getting stock prices in the day before and the 5 days after\n",
    "data_neg_1=data.shift(periods=1)\n",
    "data_1=data.shift(periods=-1)\n",
    "data_2=data.shift(periods=-2)\n",
    "data_3=data.shift(periods=-3)\n",
    "data_4=data.shift(periods=-4)\n",
    "data_5=data.shift(periods=-5)"
   ]
  },
  {
   "cell_type": "markdown",
   "metadata": {},
   "source": [
    "## Aggregating Transaction Data"
   ]
  },
  {
   "cell_type": "code",
   "execution_count": 430,
   "metadata": {},
   "outputs": [
    {
     "name": "stderr",
     "output_type": "stream",
     "text": [
      "C:\\Users\\maria\\AppData\\Local\\Temp\\ipykernel_2648\\1044570992.py:3: FutureWarning: The provided callable <function sum at 0x0000026F99633560> is currently using SeriesGroupBy.sum. In a future version of pandas, the provided callable will be used directly. To keep current behavior pass the string \"sum\" instead.\n",
      "  piv_table=pd.pivot_table(combo,index=['TRANS_DATE','ISSUERTRADINGSYMBOL'],aggfunc={'TRANS_SHARES':np.sum,'value_transacted':np.sum})\n",
      "C:\\Users\\maria\\AppData\\Local\\Temp\\ipykernel_2648\\1044570992.py:3: FutureWarning: The provided callable <function sum at 0x0000026F99633560> is currently using SeriesGroupBy.sum. In a future version of pandas, the provided callable will be used directly. To keep current behavior pass the string \"sum\" instead.\n",
      "  piv_table=pd.pivot_table(combo,index=['TRANS_DATE','ISSUERTRADINGSYMBOL'],aggfunc={'TRANS_SHARES':np.sum,'value_transacted':np.sum})\n"
     ]
    }
   ],
   "source": [
    "#do the same using a pivot table so that i can pull out the sum TRANS_SHARE and avg TRANS_PRICEPERSHARE\n",
    "\n",
    "piv_table=pd.pivot_table(combo,index=['TRANS_DATE','ISSUERTRADINGSYMBOL'],aggfunc={'TRANS_SHARES':np.sum,'value_transacted':np.sum})\n"
   ]
  },
  {
   "cell_type": "code",
   "execution_count": 431,
   "metadata": {},
   "outputs": [],
   "source": [
    "#here i am pulling out the average price transacted in a day by insiders at that company\n",
    "piv_table['transacted_avg']=piv_table['value_transacted']/piv_table['TRANS_SHARES']"
   ]
  },
  {
   "cell_type": "code",
   "execution_count": 432,
   "metadata": {},
   "outputs": [],
   "source": [
    "\n",
    "piv_table.to_csv(\"/Users/maria/Desktop/csv_files/piv_table.csv\",index=True, sep=',')\n",
    "\n",
    "combo.to_csv(\"/Users/maria/Desktop/csv_files/combo.csv\",index=True, sep=',')\n",
    "\n",
    "data.to_csv(\"/Users/maria/Desktop/csv_files/data.csv\",index=True, sep=',')"
   ]
  },
  {
   "cell_type": "code",
   "execution_count": 433,
   "metadata": {},
   "outputs": [],
   "source": [
    "#I reset the index so that we can iterate through them for my calculations \n",
    "piv_table=piv_table.reset_index()"
   ]
  },
  {
   "cell_type": "code",
   "execution_count": 434,
   "metadata": {},
   "outputs": [],
   "source": [
    "#using iterrows we will now iterate through to calculate columns \n",
    "#with stock prices at time t-1, t0, t+1, t+2,t+3,t+4,t+5\n",
    "\n",
    "\n",
    "#calc t-1 (day before the transaction)\n",
    "\n",
    "for idx, row in piv_table.iterrows():\n",
    "    trans_date=row['TRANS_DATE']\n",
    "    symbol= row['ISSUERTRADINGSYMBOL']\n",
    "    try:    \n",
    "        value=data_neg_1.loc[trans_date,symbol]\n",
    "        piv_table.loc[idx,\"STOCK_-1\"]=value\n",
    "    except:\n",
    "        piv_table.loc[idx,\"STOCK_-1\"]=np.nan\n",
    "\n",
    "#calc t0 (day of the transaction)\n",
    "\n",
    "for idx, row in piv_table.iterrows():\n",
    "    trans_date=row['TRANS_DATE']\n",
    "    symbol= row['ISSUERTRADINGSYMBOL']\n",
    "    try:    \n",
    "        value=data.loc[trans_date,symbol]\n",
    "        piv_table.loc[idx,\"STOCK_t0\"]=value\n",
    "    except:\n",
    "        piv_table.loc[idx,\"STOCK_t0\"]=np.nan\n",
    "\n",
    "#calc t+1 (day after  the transaction)\n",
    "for idx, row in piv_table.iterrows():\n",
    "    trans_date=row['TRANS_DATE']\n",
    "    symbol= row['ISSUERTRADINGSYMBOL']\n",
    "    try:    \n",
    "        value=data_1.loc[trans_date,symbol]\n",
    "        piv_table.loc[idx,\"STOCK_t1\"]=value\n",
    "    except:\n",
    "        piv_table.loc[idx,\"STOCK_t1\"]=np.nan\n",
    "\n",
    "#calc t+2 (day 2 after  the transaction)        \n",
    "\n",
    "for idx, row in piv_table.iterrows():\n",
    "    trans_date=row['TRANS_DATE']\n",
    "    symbol= row['ISSUERTRADINGSYMBOL']\n",
    "    try:    \n",
    "        value=data_2.loc[trans_date,symbol]\n",
    "        piv_table.loc[idx,\"STOCK_t2\"]=value\n",
    "    except:\n",
    "        piv_table.loc[idx,\"STOCK_t2\"]=np.nan\n",
    "\n",
    "\n",
    "#calc t+3 (day 3 after the transaction)   \n",
    "for idx, row in piv_table.iterrows():\n",
    "    trans_date=row['TRANS_DATE']\n",
    "    symbol= row['ISSUERTRADINGSYMBOL']\n",
    "    try:    \n",
    "        value=data_3.loc[trans_date,symbol]\n",
    "        piv_table.loc[idx,\"STOCK_t3\"]=value\n",
    "    except:\n",
    "        piv_table.loc[idx,\"STOCK_t3\"]=np.nan      \n",
    "\n",
    "\n",
    "#calc t+4 (day 4 after the transaction)   \n",
    "for idx, row in piv_table.iterrows():\n",
    "    trans_date=row['TRANS_DATE']\n",
    "    symbol= row['ISSUERTRADINGSYMBOL']\n",
    "    try:    \n",
    "        value=data_4.loc[trans_date,symbol]\n",
    "        piv_table.loc[idx,\"STOCK_t4\"]=value\n",
    "    except:\n",
    "        piv_table.loc[idx,\"STOCK_t4\"]=np.nan    \n",
    "\n",
    "#calc t+5 (day 5 after the transaction)   \n",
    "for idx, row in piv_table.iterrows():\n",
    "    trans_date=row['TRANS_DATE']\n",
    "    symbol= row['ISSUERTRADINGSYMBOL']\n",
    "    try:    \n",
    "        value=data_5.loc[trans_date,symbol]\n",
    "        piv_table.loc[idx,\"STOCK_t5\"]=value\n",
    "    except:\n",
    "        piv_table.loc[idx,\"STOCK_t5\"]=np.nan   "
   ]
  },
  {
   "cell_type": "code",
   "execution_count": 435,
   "metadata": {},
   "outputs": [
    {
     "name": "stdout",
     "output_type": "stream",
     "text": [
      "<class 'pandas.core.frame.DataFrame'>\n",
      "RangeIndex: 1782 entries, 0 to 1781\n",
      "Data columns (total 12 columns):\n",
      " #   Column               Non-Null Count  Dtype         \n",
      "---  ------               --------------  -----         \n",
      " 0   TRANS_DATE           1782 non-null   datetime64[ns]\n",
      " 1   ISSUERTRADINGSYMBOL  1782 non-null   object        \n",
      " 2   TRANS_SHARES         1782 non-null   float64       \n",
      " 3   value_transacted     1782 non-null   float64       \n",
      " 4   transacted_avg       1782 non-null   float64       \n",
      " 5   STOCK_-1             1780 non-null   float64       \n",
      " 6   STOCK_t0             1780 non-null   float64       \n",
      " 7   STOCK_t1             1780 non-null   float64       \n",
      " 8   STOCK_t2             1780 non-null   float64       \n",
      " 9   STOCK_t3             1780 non-null   float64       \n",
      " 10  STOCK_t4             1780 non-null   float64       \n",
      " 11  STOCK_t5             1780 non-null   float64       \n",
      "dtypes: datetime64[ns](1), float64(10), object(1)\n",
      "memory usage: 167.2+ KB\n"
     ]
    }
   ],
   "source": [
    "piv_table.info()"
   ]
  },
  {
   "cell_type": "code",
   "execution_count": null,
   "metadata": {},
   "outputs": [],
   "source": []
  }
 ],
 "metadata": {
  "kernelspec": {
   "display_name": "Python 3",
   "language": "python",
   "name": "python3"
  },
  "language_info": {
   "codemirror_mode": {
    "name": "ipython",
    "version": 3
   },
   "file_extension": ".py",
   "mimetype": "text/x-python",
   "name": "python",
   "nbconvert_exporter": "python",
   "pygments_lexer": "ipython3",
   "version": "3.12.7"
  }
 },
 "nbformat": 4,
 "nbformat_minor": 2
}
